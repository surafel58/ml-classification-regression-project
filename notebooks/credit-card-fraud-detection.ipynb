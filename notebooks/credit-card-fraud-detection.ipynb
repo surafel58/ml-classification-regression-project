{
 "cells": [
  {
   "cell_type": "markdown",
   "id": "92e77dd7",
   "metadata": {
    "papermill": {
     "duration": 0.008692,
     "end_time": "2025-02-26T15:20:45.489259",
     "exception": false,
     "start_time": "2025-02-26T15:20:45.480567",
     "status": "completed"
    },
    "tags": []
   },
   "source": [
    "#  Credit Card Fraud Detection¶\n",
    "Credit card fraud is a growing concern in the financial industry, leading to significant monetary losses and security risks. This project aims to develop a machine learning-based fraud detection system that can accurately identify fraudulent transactions in real time."
   ]
  },
  {
   "cell_type": "markdown",
   "id": "08f5a8a5",
   "metadata": {
    "papermill": {
     "duration": 0.008482,
     "end_time": "2025-02-26T15:20:45.524619",
     "exception": false,
     "start_time": "2025-02-26T15:20:45.516137",
     "status": "completed"
    },
    "tags": []
   },
   "source": [
    "# Some insights  \n",
    "1.The percentage of fraud is 0.5788651743883394 % and the percentage of non-fraud is 99.42113482561166 %  \n",
    "2.['grocery_pos', 'shopping_net', 'misc_net','shopping_pos', 'gas_transport']) these instances of category columns covers 70 % of dataset and contribute around 50 % in fraud money  \n",
    "3. Frauds mostly occur when the amount >200$.Thus we need to be careful at that time.  \n",
    "4.This concludes major fraud case happens on weekends as well as on monday  \n",
    "5. This shows that major frauds happens in the monthof April, Jun, Jan, Feb.  \n",
    "6. This shows that major frauds happens at night.  \n"
   ]
  },
  {
   "cell_type": "markdown",
   "id": "c317b209",
   "metadata": {
    "papermill": {
     "duration": 0.008476,
     "end_time": "2025-02-26T15:20:45.541796",
     "exception": false,
     "start_time": "2025-02-26T15:20:45.533320",
     "status": "completed"
    },
    "tags": []
   },
   "source": [
    " \n",
    "1️⃣ Load Data  \n",
    "2️⃣ Preprocess & Clean Data  \n",
    "3️⃣ Feature Engineering  \n",
    "4️⃣ EDA  \n",
    "5️⃣ Train-Test Split  \n",
    "6️⃣ Train Models  \n",
    "7️⃣ Evaluate & Tune Models  \n",
    "8️⃣ Deploy & Monitor  "
   ]
  },
  {
   "cell_type": "markdown",
   "id": "c02a998b",
   "metadata": {
    "papermill": {
     "duration": 0.008323,
     "end_time": "2025-02-26T15:20:45.558894",
     "exception": false,
     "start_time": "2025-02-26T15:20:45.550571",
     "status": "completed"
    },
    "tags": []
   },
   "source": [
    "## Importing dependencies"
   ]
  },
  {
   "cell_type": "code",
   "execution_count": 3,
   "id": "322f47de",
   "metadata": {
    "execution": {
     "iopub.execute_input": "2025-02-26T15:20:45.577368Z",
     "iopub.status.busy": "2025-02-26T15:20:45.576852Z",
     "iopub.status.idle": "2025-02-26T15:20:47.546203Z",
     "shell.execute_reply": "2025-02-26T15:20:47.545322Z"
    },
    "papermill": {
     "duration": 1.980711,
     "end_time": "2025-02-26T15:20:47.547978",
     "exception": false,
     "start_time": "2025-02-26T15:20:45.567267",
     "status": "completed"
    },
    "tags": []
   },
   "outputs": [],
   "source": [
    "import os\n",
    "import numpy as np\n",
    "import pandas as pd\n",
    "import seaborn as sns\n",
    "import os\n",
    "import numpy as np\n",
    "import pandas as pd\n",
    "import matplotlib.pyplot as plt\n",
    "from sklearn.metrics import confusion_matrix, classification_report"
   ]
  },
  {
   "cell_type": "markdown",
   "id": "5c5c40f7",
   "metadata": {
    "papermill": {
     "duration": 0.008744,
     "end_time": "2025-02-26T15:20:47.566801",
     "exception": false,
     "start_time": "2025-02-26T15:20:47.558057",
     "status": "completed"
    },
    "tags": []
   },
   "source": [
    "# 1️⃣ Data Loading"
   ]
  },
  {
   "cell_type": "code",
   "execution_count": 10,
   "id": "d52d93e0",
   "metadata": {
    "execution": {
     "iopub.execute_input": "2025-02-26T15:20:47.587379Z",
     "iopub.status.busy": "2025-02-26T15:20:47.586860Z",
     "iopub.status.idle": "2025-02-26T15:20:56.755640Z",
     "shell.execute_reply": "2025-02-26T15:20:56.754371Z"
    },
    "papermill": {
     "duration": 9.181136,
     "end_time": "2025-02-26T15:20:56.757430",
     "exception": false,
     "start_time": "2025-02-26T15:20:47.576294",
     "status": "completed"
    },
    "tags": []
   },
   "outputs": [],
   "source": [
    "df = pd.read_csv(\"C:/Users/surafel/Downloads/dataset/fraudTrain.csv\", index_col=0)"
   ]
  },
  {
   "cell_type": "code",
   "execution_count": 11,
   "id": "f7c89a06",
   "metadata": {
    "execution": {
     "iopub.execute_input": "2025-02-26T15:20:56.777500Z",
     "iopub.status.busy": "2025-02-26T15:20:56.777108Z",
     "iopub.status.idle": "2025-02-26T15:20:56.809394Z",
     "shell.execute_reply": "2025-02-26T15:20:56.808572Z"
    },
    "papermill": {
     "duration": 0.043867,
     "end_time": "2025-02-26T15:20:56.810899",
     "exception": false,
     "start_time": "2025-02-26T15:20:56.767032",
     "status": "completed"
    },
    "tags": []
   },
   "outputs": [
    {
     "data": {
      "text/html": [
       "<div>\n",
       "<style scoped>\n",
       "    .dataframe tbody tr th:only-of-type {\n",
       "        vertical-align: middle;\n",
       "    }\n",
       "\n",
       "    .dataframe tbody tr th {\n",
       "        vertical-align: top;\n",
       "    }\n",
       "\n",
       "    .dataframe thead th {\n",
       "        text-align: right;\n",
       "    }\n",
       "</style>\n",
       "<table border=\"1\" class=\"dataframe\">\n",
       "  <thead>\n",
       "    <tr style=\"text-align: right;\">\n",
       "      <th></th>\n",
       "      <th>trans_date_trans_time</th>\n",
       "      <th>cc_num</th>\n",
       "      <th>merchant</th>\n",
       "      <th>category</th>\n",
       "      <th>amt</th>\n",
       "      <th>first</th>\n",
       "      <th>last</th>\n",
       "      <th>gender</th>\n",
       "      <th>street</th>\n",
       "      <th>city</th>\n",
       "      <th>...</th>\n",
       "      <th>lat</th>\n",
       "      <th>long</th>\n",
       "      <th>city_pop</th>\n",
       "      <th>job</th>\n",
       "      <th>dob</th>\n",
       "      <th>trans_num</th>\n",
       "      <th>unix_time</th>\n",
       "      <th>merch_lat</th>\n",
       "      <th>merch_long</th>\n",
       "      <th>is_fraud</th>\n",
       "    </tr>\n",
       "  </thead>\n",
       "  <tbody>\n",
       "    <tr>\n",
       "      <th>0</th>\n",
       "      <td>2019-01-01 00:00:18</td>\n",
       "      <td>2703186189652095</td>\n",
       "      <td>fraud_Rippin, Kub and Mann</td>\n",
       "      <td>misc_net</td>\n",
       "      <td>4.97</td>\n",
       "      <td>Jennifer</td>\n",
       "      <td>Banks</td>\n",
       "      <td>F</td>\n",
       "      <td>561 Perry Cove</td>\n",
       "      <td>Moravian Falls</td>\n",
       "      <td>...</td>\n",
       "      <td>36.0788</td>\n",
       "      <td>-81.1781</td>\n",
       "      <td>3495</td>\n",
       "      <td>Psychologist, counselling</td>\n",
       "      <td>1988-03-09</td>\n",
       "      <td>0b242abb623afc578575680df30655b9</td>\n",
       "      <td>1325376018</td>\n",
       "      <td>36.011293</td>\n",
       "      <td>-82.048315</td>\n",
       "      <td>0</td>\n",
       "    </tr>\n",
       "    <tr>\n",
       "      <th>1</th>\n",
       "      <td>2019-01-01 00:00:44</td>\n",
       "      <td>630423337322</td>\n",
       "      <td>fraud_Heller, Gutmann and Zieme</td>\n",
       "      <td>grocery_pos</td>\n",
       "      <td>107.23</td>\n",
       "      <td>Stephanie</td>\n",
       "      <td>Gill</td>\n",
       "      <td>F</td>\n",
       "      <td>43039 Riley Greens Suite 393</td>\n",
       "      <td>Orient</td>\n",
       "      <td>...</td>\n",
       "      <td>48.8878</td>\n",
       "      <td>-118.2105</td>\n",
       "      <td>149</td>\n",
       "      <td>Special educational needs teacher</td>\n",
       "      <td>1978-06-21</td>\n",
       "      <td>1f76529f8574734946361c461b024d99</td>\n",
       "      <td>1325376044</td>\n",
       "      <td>49.159047</td>\n",
       "      <td>-118.186462</td>\n",
       "      <td>0</td>\n",
       "    </tr>\n",
       "    <tr>\n",
       "      <th>2</th>\n",
       "      <td>2019-01-01 00:00:51</td>\n",
       "      <td>38859492057661</td>\n",
       "      <td>fraud_Lind-Buckridge</td>\n",
       "      <td>entertainment</td>\n",
       "      <td>220.11</td>\n",
       "      <td>Edward</td>\n",
       "      <td>Sanchez</td>\n",
       "      <td>M</td>\n",
       "      <td>594 White Dale Suite 530</td>\n",
       "      <td>Malad City</td>\n",
       "      <td>...</td>\n",
       "      <td>42.1808</td>\n",
       "      <td>-112.2620</td>\n",
       "      <td>4154</td>\n",
       "      <td>Nature conservation officer</td>\n",
       "      <td>1962-01-19</td>\n",
       "      <td>a1a22d70485983eac12b5b88dad1cf95</td>\n",
       "      <td>1325376051</td>\n",
       "      <td>43.150704</td>\n",
       "      <td>-112.154481</td>\n",
       "      <td>0</td>\n",
       "    </tr>\n",
       "    <tr>\n",
       "      <th>3</th>\n",
       "      <td>2019-01-01 00:01:16</td>\n",
       "      <td>3534093764340240</td>\n",
       "      <td>fraud_Kutch, Hermiston and Farrell</td>\n",
       "      <td>gas_transport</td>\n",
       "      <td>45.00</td>\n",
       "      <td>Jeremy</td>\n",
       "      <td>White</td>\n",
       "      <td>M</td>\n",
       "      <td>9443 Cynthia Court Apt. 038</td>\n",
       "      <td>Boulder</td>\n",
       "      <td>...</td>\n",
       "      <td>46.2306</td>\n",
       "      <td>-112.1138</td>\n",
       "      <td>1939</td>\n",
       "      <td>Patent attorney</td>\n",
       "      <td>1967-01-12</td>\n",
       "      <td>6b849c168bdad6f867558c3793159a81</td>\n",
       "      <td>1325376076</td>\n",
       "      <td>47.034331</td>\n",
       "      <td>-112.561071</td>\n",
       "      <td>0</td>\n",
       "    </tr>\n",
       "    <tr>\n",
       "      <th>4</th>\n",
       "      <td>2019-01-01 00:03:06</td>\n",
       "      <td>375534208663984</td>\n",
       "      <td>fraud_Keeling-Crist</td>\n",
       "      <td>misc_pos</td>\n",
       "      <td>41.96</td>\n",
       "      <td>Tyler</td>\n",
       "      <td>Garcia</td>\n",
       "      <td>M</td>\n",
       "      <td>408 Bradley Rest</td>\n",
       "      <td>Doe Hill</td>\n",
       "      <td>...</td>\n",
       "      <td>38.4207</td>\n",
       "      <td>-79.4629</td>\n",
       "      <td>99</td>\n",
       "      <td>Dance movement psychotherapist</td>\n",
       "      <td>1986-03-28</td>\n",
       "      <td>a41d7549acf90789359a9aa5346dcb46</td>\n",
       "      <td>1325376186</td>\n",
       "      <td>38.674999</td>\n",
       "      <td>-78.632459</td>\n",
       "      <td>0</td>\n",
       "    </tr>\n",
       "  </tbody>\n",
       "</table>\n",
       "<p>5 rows × 22 columns</p>\n",
       "</div>"
      ],
      "text/plain": [
       "  trans_date_trans_time            cc_num                            merchant  \\\n",
       "0   2019-01-01 00:00:18  2703186189652095          fraud_Rippin, Kub and Mann   \n",
       "1   2019-01-01 00:00:44      630423337322     fraud_Heller, Gutmann and Zieme   \n",
       "2   2019-01-01 00:00:51    38859492057661                fraud_Lind-Buckridge   \n",
       "3   2019-01-01 00:01:16  3534093764340240  fraud_Kutch, Hermiston and Farrell   \n",
       "4   2019-01-01 00:03:06   375534208663984                 fraud_Keeling-Crist   \n",
       "\n",
       "        category     amt      first     last gender  \\\n",
       "0       misc_net    4.97   Jennifer    Banks      F   \n",
       "1    grocery_pos  107.23  Stephanie     Gill      F   \n",
       "2  entertainment  220.11     Edward  Sanchez      M   \n",
       "3  gas_transport   45.00     Jeremy    White      M   \n",
       "4       misc_pos   41.96      Tyler   Garcia      M   \n",
       "\n",
       "                         street            city  ...      lat      long  \\\n",
       "0                561 Perry Cove  Moravian Falls  ...  36.0788  -81.1781   \n",
       "1  43039 Riley Greens Suite 393          Orient  ...  48.8878 -118.2105   \n",
       "2      594 White Dale Suite 530      Malad City  ...  42.1808 -112.2620   \n",
       "3   9443 Cynthia Court Apt. 038         Boulder  ...  46.2306 -112.1138   \n",
       "4              408 Bradley Rest        Doe Hill  ...  38.4207  -79.4629   \n",
       "\n",
       "   city_pop                                job         dob  \\\n",
       "0      3495          Psychologist, counselling  1988-03-09   \n",
       "1       149  Special educational needs teacher  1978-06-21   \n",
       "2      4154        Nature conservation officer  1962-01-19   \n",
       "3      1939                    Patent attorney  1967-01-12   \n",
       "4        99     Dance movement psychotherapist  1986-03-28   \n",
       "\n",
       "                          trans_num   unix_time  merch_lat  merch_long  \\\n",
       "0  0b242abb623afc578575680df30655b9  1325376018  36.011293  -82.048315   \n",
       "1  1f76529f8574734946361c461b024d99  1325376044  49.159047 -118.186462   \n",
       "2  a1a22d70485983eac12b5b88dad1cf95  1325376051  43.150704 -112.154481   \n",
       "3  6b849c168bdad6f867558c3793159a81  1325376076  47.034331 -112.561071   \n",
       "4  a41d7549acf90789359a9aa5346dcb46  1325376186  38.674999  -78.632459   \n",
       "\n",
       "   is_fraud  \n",
       "0         0  \n",
       "1         0  \n",
       "2         0  \n",
       "3         0  \n",
       "4         0  \n",
       "\n",
       "[5 rows x 22 columns]"
      ]
     },
     "execution_count": 11,
     "metadata": {},
     "output_type": "execute_result"
    }
   ],
   "source": [
    "df.head()"
   ]
  },
  {
   "cell_type": "code",
   "execution_count": 12,
   "id": "a3b8ddc9",
   "metadata": {
    "execution": {
     "iopub.execute_input": "2025-02-26T15:20:56.831657Z",
     "iopub.status.busy": "2025-02-26T15:20:56.831323Z",
     "iopub.status.idle": "2025-02-26T15:20:56.837388Z",
     "shell.execute_reply": "2025-02-26T15:20:56.836349Z"
    },
    "papermill": {
     "duration": 0.018393,
     "end_time": "2025-02-26T15:20:56.839176",
     "exception": false,
     "start_time": "2025-02-26T15:20:56.820783",
     "status": "completed"
    },
    "tags": []
   },
   "outputs": [
    {
     "data": {
      "text/plain": [
       "Index(['trans_date_trans_time', 'cc_num', 'merchant', 'category', 'amt',\n",
       "       'first', 'last', 'gender', 'street', 'city', 'state', 'zip', 'lat',\n",
       "       'long', 'city_pop', 'job', 'dob', 'trans_num', 'unix_time', 'merch_lat',\n",
       "       'merch_long', 'is_fraud'],\n",
       "      dtype='object')"
      ]
     },
     "execution_count": 12,
     "metadata": {},
     "output_type": "execute_result"
    }
   ],
   "source": [
    "df.columns"
   ]
  },
  {
   "cell_type": "code",
   "execution_count": 13,
   "id": "15e2b703",
   "metadata": {
    "execution": {
     "iopub.execute_input": "2025-02-26T15:20:56.859955Z",
     "iopub.status.busy": "2025-02-26T15:20:56.859604Z",
     "iopub.status.idle": "2025-02-26T15:20:56.863989Z",
     "shell.execute_reply": "2025-02-26T15:20:56.862829Z"
    },
    "papermill": {
     "duration": 0.016446,
     "end_time": "2025-02-26T15:20:56.865446",
     "exception": false,
     "start_time": "2025-02-26T15:20:56.849000",
     "status": "completed"
    },
    "tags": []
   },
   "outputs": [
    {
     "name": "stdout",
     "output_type": "stream",
     "text": [
      "The dataset has 1296675 rows and 22 columns.\n"
     ]
    }
   ],
   "source": [
    "row,col=df.shape\n",
    "print(f'The dataset has {row} rows and {col} columns.')"
   ]
  },
  {
   "cell_type": "code",
   "execution_count": 14,
   "id": "9cd6e1f8",
   "metadata": {
    "execution": {
     "iopub.execute_input": "2025-02-26T15:20:56.886953Z",
     "iopub.status.busy": "2025-02-26T15:20:56.886643Z",
     "iopub.status.idle": "2025-02-26T15:20:57.253274Z",
     "shell.execute_reply": "2025-02-26T15:20:57.252125Z"
    },
    "papermill": {
     "duration": 0.378496,
     "end_time": "2025-02-26T15:20:57.254558",
     "exception": false,
     "start_time": "2025-02-26T15:20:56.876062",
     "status": "completed"
    },
    "tags": []
   },
   "outputs": [
    {
     "name": "stdout",
     "output_type": "stream",
     "text": [
      "             cc_num           amt           zip           lat          long  \\\n",
      "count  1.296675e+06  1.296675e+06  1.296675e+06  1.296675e+06  1.296675e+06   \n",
      "mean   4.171920e+17  7.035104e+01  4.880067e+04  3.853762e+01 -9.022634e+01   \n",
      "std    1.308806e+18  1.603160e+02  2.689322e+04  5.075808e+00  1.375908e+01   \n",
      "min    6.041621e+10  1.000000e+00  1.257000e+03  2.002710e+01 -1.656723e+02   \n",
      "25%    1.800429e+14  9.650000e+00  2.623700e+04  3.462050e+01 -9.679800e+01   \n",
      "50%    3.521417e+15  4.752000e+01  4.817400e+04  3.935430e+01 -8.747690e+01   \n",
      "75%    4.642255e+15  8.314000e+01  7.204200e+04  4.194040e+01 -8.015800e+01   \n",
      "max    4.992346e+18  2.894890e+04  9.978300e+04  6.669330e+01 -6.795030e+01   \n",
      "\n",
      "           city_pop     unix_time     merch_lat    merch_long      is_fraud  \n",
      "count  1.296675e+06  1.296675e+06  1.296675e+06  1.296675e+06  1.296675e+06  \n",
      "mean   8.882444e+04  1.349244e+09  3.853734e+01 -9.022646e+01  5.788652e-03  \n",
      "std    3.019564e+05  1.284128e+07  5.109788e+00  1.377109e+01  7.586269e-02  \n",
      "min    2.300000e+01  1.325376e+09  1.902779e+01 -1.666712e+02  0.000000e+00  \n",
      "25%    7.430000e+02  1.338751e+09  3.473357e+01 -9.689728e+01  0.000000e+00  \n",
      "50%    2.456000e+03  1.349250e+09  3.936568e+01 -8.743839e+01  0.000000e+00  \n",
      "75%    2.032800e+04  1.359385e+09  4.195716e+01 -8.023680e+01  0.000000e+00  \n",
      "max    2.906700e+06  1.371817e+09  6.751027e+01 -6.695090e+01  1.000000e+00  \n"
     ]
    }
   ],
   "source": [
    "print(df.describe())"
   ]
  },
  {
   "cell_type": "code",
   "execution_count": 15,
   "id": "d417c464",
   "metadata": {
    "execution": {
     "iopub.execute_input": "2025-02-26T15:20:57.277102Z",
     "iopub.status.busy": "2025-02-26T15:20:57.276772Z",
     "iopub.status.idle": "2025-02-26T15:20:57.806714Z",
     "shell.execute_reply": "2025-02-26T15:20:57.805044Z"
    },
    "papermill": {
     "duration": 0.544411,
     "end_time": "2025-02-26T15:20:57.809030",
     "exception": false,
     "start_time": "2025-02-26T15:20:57.264619",
     "status": "completed"
    },
    "tags": []
   },
   "outputs": [
    {
     "name": "stdout",
     "output_type": "stream",
     "text": [
      "<class 'pandas.core.frame.DataFrame'>\n",
      "Index: 1296675 entries, 0 to 1296674\n",
      "Data columns (total 22 columns):\n",
      " #   Column                 Non-Null Count    Dtype  \n",
      "---  ------                 --------------    -----  \n",
      " 0   trans_date_trans_time  1296675 non-null  object \n",
      " 1   cc_num                 1296675 non-null  int64  \n",
      " 2   merchant               1296675 non-null  object \n",
      " 3   category               1296675 non-null  object \n",
      " 4   amt                    1296675 non-null  float64\n",
      " 5   first                  1296675 non-null  object \n",
      " 6   last                   1296675 non-null  object \n",
      " 7   gender                 1296675 non-null  object \n",
      " 8   street                 1296675 non-null  object \n",
      " 9   city                   1296675 non-null  object \n",
      " 10  state                  1296675 non-null  object \n",
      " 11  zip                    1296675 non-null  int64  \n",
      " 12  lat                    1296675 non-null  float64\n",
      " 13  long                   1296675 non-null  float64\n",
      " 14  city_pop               1296675 non-null  int64  \n",
      " 15  job                    1296675 non-null  object \n",
      " 16  dob                    1296675 non-null  object \n",
      " 17  trans_num              1296675 non-null  object \n",
      " 18  unix_time              1296675 non-null  int64  \n",
      " 19  merch_lat              1296675 non-null  float64\n",
      " 20  merch_long             1296675 non-null  float64\n",
      " 21  is_fraud               1296675 non-null  int64  \n",
      "dtypes: float64(5), int64(5), object(12)\n",
      "memory usage: 227.5+ MB\n"
     ]
    }
   ],
   "source": [
    "df.info()"
   ]
  },
  {
   "cell_type": "code",
   "execution_count": 16,
   "id": "d7143829",
   "metadata": {
    "execution": {
     "iopub.execute_input": "2025-02-26T15:20:57.828839Z",
     "iopub.status.busy": "2025-02-26T15:20:57.828560Z",
     "iopub.status.idle": "2025-02-26T15:20:57.844412Z",
     "shell.execute_reply": "2025-02-26T15:20:57.843153Z"
    },
    "papermill": {
     "duration": 0.027189,
     "end_time": "2025-02-26T15:20:57.845929",
     "exception": false,
     "start_time": "2025-02-26T15:20:57.818740",
     "status": "completed"
    },
    "tags": []
   },
   "outputs": [
    {
     "name": "stdout",
     "output_type": "stream",
     "text": [
      "The percentage of fraud is 0.5788651743883394 % and the percentage of non-fraud is 99.42113482561166 %\n",
      "This shows how imbalanced is the dataset\n"
     ]
    }
   ],
   "source": [
    "fraud_percentage=len(df[df['is_fraud']==1])/len(df)*100\n",
    "non_fraud_percentage=100-fraud_percentage\n",
    "print(f'The percentage of fraud is {fraud_percentage} % and the percentage of non-fraud is {non_fraud_percentage} %')\n",
    "print('This shows how imbalanced is the dataset')"
   ]
  },
  {
   "cell_type": "markdown",
   "id": "eca3daa6",
   "metadata": {
    "papermill": {
     "duration": 0.00964,
     "end_time": "2025-02-26T15:20:57.866048",
     "exception": false,
     "start_time": "2025-02-26T15:20:57.856408",
     "status": "completed"
    },
    "tags": []
   },
   "source": [
    "## Checking for missing values"
   ]
  },
  {
   "cell_type": "code",
   "execution_count": 17,
   "id": "f726ed97",
   "metadata": {
    "execution": {
     "iopub.execute_input": "2025-02-26T15:20:57.886422Z",
     "iopub.status.busy": "2025-02-26T15:20:57.886084Z",
     "iopub.status.idle": "2025-02-26T15:20:58.393426Z",
     "shell.execute_reply": "2025-02-26T15:20:58.391944Z"
    },
    "papermill": {
     "duration": 0.519667,
     "end_time": "2025-02-26T15:20:58.395382",
     "exception": false,
     "start_time": "2025-02-26T15:20:57.875715",
     "status": "completed"
    },
    "tags": []
   },
   "outputs": [
    {
     "data": {
      "text/plain": [
       "trans_date_trans_time    0\n",
       "cc_num                   0\n",
       "merchant                 0\n",
       "category                 0\n",
       "amt                      0\n",
       "first                    0\n",
       "last                     0\n",
       "gender                   0\n",
       "street                   0\n",
       "city                     0\n",
       "state                    0\n",
       "zip                      0\n",
       "lat                      0\n",
       "long                     0\n",
       "city_pop                 0\n",
       "job                      0\n",
       "dob                      0\n",
       "trans_num                0\n",
       "unix_time                0\n",
       "merch_lat                0\n",
       "merch_long               0\n",
       "is_fraud                 0\n",
       "dtype: int64"
      ]
     },
     "execution_count": 17,
     "metadata": {},
     "output_type": "execute_result"
    }
   ],
   "source": [
    "df.isna().sum()\n",
    "# No missing values"
   ]
  },
  {
   "cell_type": "markdown",
   "id": "002ce8ff",
   "metadata": {
    "papermill": {
     "duration": 0.009557,
     "end_time": "2025-02-26T15:20:58.415400",
     "exception": false,
     "start_time": "2025-02-26T15:20:58.405843",
     "status": "completed"
    },
    "tags": []
   },
   "source": [
    "# Studing different columns"
   ]
  },
  {
   "cell_type": "code",
   "execution_count": 18,
   "id": "1ef8d41f",
   "metadata": {
    "execution": {
     "iopub.execute_input": "2025-02-26T15:20:58.437118Z",
     "iopub.status.busy": "2025-02-26T15:20:58.436767Z",
     "iopub.status.idle": "2025-02-26T15:20:58.455142Z",
     "shell.execute_reply": "2025-02-26T15:20:58.454067Z"
    },
    "papermill": {
     "duration": 0.031558,
     "end_time": "2025-02-26T15:20:58.456710",
     "exception": false,
     "start_time": "2025-02-26T15:20:58.425152",
     "status": "completed"
    },
    "tags": []
   },
   "outputs": [
    {
     "data": {
      "text/html": [
       "<div>\n",
       "<style scoped>\n",
       "    .dataframe tbody tr th:only-of-type {\n",
       "        vertical-align: middle;\n",
       "    }\n",
       "\n",
       "    .dataframe tbody tr th {\n",
       "        vertical-align: top;\n",
       "    }\n",
       "\n",
       "    .dataframe thead th {\n",
       "        text-align: right;\n",
       "    }\n",
       "</style>\n",
       "<table border=\"1\" class=\"dataframe\">\n",
       "  <thead>\n",
       "    <tr style=\"text-align: right;\">\n",
       "      <th></th>\n",
       "      <th>trans_date_trans_time</th>\n",
       "      <th>cc_num</th>\n",
       "      <th>merchant</th>\n",
       "      <th>category</th>\n",
       "      <th>amt</th>\n",
       "      <th>first</th>\n",
       "      <th>last</th>\n",
       "      <th>gender</th>\n",
       "      <th>street</th>\n",
       "      <th>city</th>\n",
       "      <th>...</th>\n",
       "      <th>lat</th>\n",
       "      <th>long</th>\n",
       "      <th>city_pop</th>\n",
       "      <th>job</th>\n",
       "      <th>dob</th>\n",
       "      <th>trans_num</th>\n",
       "      <th>unix_time</th>\n",
       "      <th>merch_lat</th>\n",
       "      <th>merch_long</th>\n",
       "      <th>is_fraud</th>\n",
       "    </tr>\n",
       "  </thead>\n",
       "  <tbody>\n",
       "    <tr>\n",
       "      <th>0</th>\n",
       "      <td>2019-01-01 00:00:18</td>\n",
       "      <td>2703186189652095</td>\n",
       "      <td>fraud_Rippin, Kub and Mann</td>\n",
       "      <td>misc_net</td>\n",
       "      <td>4.97</td>\n",
       "      <td>Jennifer</td>\n",
       "      <td>Banks</td>\n",
       "      <td>F</td>\n",
       "      <td>561 Perry Cove</td>\n",
       "      <td>Moravian Falls</td>\n",
       "      <td>...</td>\n",
       "      <td>36.0788</td>\n",
       "      <td>-81.1781</td>\n",
       "      <td>3495</td>\n",
       "      <td>Psychologist, counselling</td>\n",
       "      <td>1988-03-09</td>\n",
       "      <td>0b242abb623afc578575680df30655b9</td>\n",
       "      <td>1325376018</td>\n",
       "      <td>36.011293</td>\n",
       "      <td>-82.048315</td>\n",
       "      <td>0</td>\n",
       "    </tr>\n",
       "    <tr>\n",
       "      <th>1</th>\n",
       "      <td>2019-01-01 00:00:44</td>\n",
       "      <td>630423337322</td>\n",
       "      <td>fraud_Heller, Gutmann and Zieme</td>\n",
       "      <td>grocery_pos</td>\n",
       "      <td>107.23</td>\n",
       "      <td>Stephanie</td>\n",
       "      <td>Gill</td>\n",
       "      <td>F</td>\n",
       "      <td>43039 Riley Greens Suite 393</td>\n",
       "      <td>Orient</td>\n",
       "      <td>...</td>\n",
       "      <td>48.8878</td>\n",
       "      <td>-118.2105</td>\n",
       "      <td>149</td>\n",
       "      <td>Special educational needs teacher</td>\n",
       "      <td>1978-06-21</td>\n",
       "      <td>1f76529f8574734946361c461b024d99</td>\n",
       "      <td>1325376044</td>\n",
       "      <td>49.159047</td>\n",
       "      <td>-118.186462</td>\n",
       "      <td>0</td>\n",
       "    </tr>\n",
       "    <tr>\n",
       "      <th>2</th>\n",
       "      <td>2019-01-01 00:00:51</td>\n",
       "      <td>38859492057661</td>\n",
       "      <td>fraud_Lind-Buckridge</td>\n",
       "      <td>entertainment</td>\n",
       "      <td>220.11</td>\n",
       "      <td>Edward</td>\n",
       "      <td>Sanchez</td>\n",
       "      <td>M</td>\n",
       "      <td>594 White Dale Suite 530</td>\n",
       "      <td>Malad City</td>\n",
       "      <td>...</td>\n",
       "      <td>42.1808</td>\n",
       "      <td>-112.2620</td>\n",
       "      <td>4154</td>\n",
       "      <td>Nature conservation officer</td>\n",
       "      <td>1962-01-19</td>\n",
       "      <td>a1a22d70485983eac12b5b88dad1cf95</td>\n",
       "      <td>1325376051</td>\n",
       "      <td>43.150704</td>\n",
       "      <td>-112.154481</td>\n",
       "      <td>0</td>\n",
       "    </tr>\n",
       "    <tr>\n",
       "      <th>3</th>\n",
       "      <td>2019-01-01 00:01:16</td>\n",
       "      <td>3534093764340240</td>\n",
       "      <td>fraud_Kutch, Hermiston and Farrell</td>\n",
       "      <td>gas_transport</td>\n",
       "      <td>45.00</td>\n",
       "      <td>Jeremy</td>\n",
       "      <td>White</td>\n",
       "      <td>M</td>\n",
       "      <td>9443 Cynthia Court Apt. 038</td>\n",
       "      <td>Boulder</td>\n",
       "      <td>...</td>\n",
       "      <td>46.2306</td>\n",
       "      <td>-112.1138</td>\n",
       "      <td>1939</td>\n",
       "      <td>Patent attorney</td>\n",
       "      <td>1967-01-12</td>\n",
       "      <td>6b849c168bdad6f867558c3793159a81</td>\n",
       "      <td>1325376076</td>\n",
       "      <td>47.034331</td>\n",
       "      <td>-112.561071</td>\n",
       "      <td>0</td>\n",
       "    </tr>\n",
       "    <tr>\n",
       "      <th>4</th>\n",
       "      <td>2019-01-01 00:03:06</td>\n",
       "      <td>375534208663984</td>\n",
       "      <td>fraud_Keeling-Crist</td>\n",
       "      <td>misc_pos</td>\n",
       "      <td>41.96</td>\n",
       "      <td>Tyler</td>\n",
       "      <td>Garcia</td>\n",
       "      <td>M</td>\n",
       "      <td>408 Bradley Rest</td>\n",
       "      <td>Doe Hill</td>\n",
       "      <td>...</td>\n",
       "      <td>38.4207</td>\n",
       "      <td>-79.4629</td>\n",
       "      <td>99</td>\n",
       "      <td>Dance movement psychotherapist</td>\n",
       "      <td>1986-03-28</td>\n",
       "      <td>a41d7549acf90789359a9aa5346dcb46</td>\n",
       "      <td>1325376186</td>\n",
       "      <td>38.674999</td>\n",
       "      <td>-78.632459</td>\n",
       "      <td>0</td>\n",
       "    </tr>\n",
       "  </tbody>\n",
       "</table>\n",
       "<p>5 rows × 22 columns</p>\n",
       "</div>"
      ],
      "text/plain": [
       "  trans_date_trans_time            cc_num                            merchant  \\\n",
       "0   2019-01-01 00:00:18  2703186189652095          fraud_Rippin, Kub and Mann   \n",
       "1   2019-01-01 00:00:44      630423337322     fraud_Heller, Gutmann and Zieme   \n",
       "2   2019-01-01 00:00:51    38859492057661                fraud_Lind-Buckridge   \n",
       "3   2019-01-01 00:01:16  3534093764340240  fraud_Kutch, Hermiston and Farrell   \n",
       "4   2019-01-01 00:03:06   375534208663984                 fraud_Keeling-Crist   \n",
       "\n",
       "        category     amt      first     last gender  \\\n",
       "0       misc_net    4.97   Jennifer    Banks      F   \n",
       "1    grocery_pos  107.23  Stephanie     Gill      F   \n",
       "2  entertainment  220.11     Edward  Sanchez      M   \n",
       "3  gas_transport   45.00     Jeremy    White      M   \n",
       "4       misc_pos   41.96      Tyler   Garcia      M   \n",
       "\n",
       "                         street            city  ...      lat      long  \\\n",
       "0                561 Perry Cove  Moravian Falls  ...  36.0788  -81.1781   \n",
       "1  43039 Riley Greens Suite 393          Orient  ...  48.8878 -118.2105   \n",
       "2      594 White Dale Suite 530      Malad City  ...  42.1808 -112.2620   \n",
       "3   9443 Cynthia Court Apt. 038         Boulder  ...  46.2306 -112.1138   \n",
       "4              408 Bradley Rest        Doe Hill  ...  38.4207  -79.4629   \n",
       "\n",
       "   city_pop                                job         dob  \\\n",
       "0      3495          Psychologist, counselling  1988-03-09   \n",
       "1       149  Special educational needs teacher  1978-06-21   \n",
       "2      4154        Nature conservation officer  1962-01-19   \n",
       "3      1939                    Patent attorney  1967-01-12   \n",
       "4        99     Dance movement psychotherapist  1986-03-28   \n",
       "\n",
       "                          trans_num   unix_time  merch_lat  merch_long  \\\n",
       "0  0b242abb623afc578575680df30655b9  1325376018  36.011293  -82.048315   \n",
       "1  1f76529f8574734946361c461b024d99  1325376044  49.159047 -118.186462   \n",
       "2  a1a22d70485983eac12b5b88dad1cf95  1325376051  43.150704 -112.154481   \n",
       "3  6b849c168bdad6f867558c3793159a81  1325376076  47.034331 -112.561071   \n",
       "4  a41d7549acf90789359a9aa5346dcb46  1325376186  38.674999  -78.632459   \n",
       "\n",
       "   is_fraud  \n",
       "0         0  \n",
       "1         0  \n",
       "2         0  \n",
       "3         0  \n",
       "4         0  \n",
       "\n",
       "[5 rows x 22 columns]"
      ]
     },
     "execution_count": 18,
     "metadata": {},
     "output_type": "execute_result"
    }
   ],
   "source": [
    "df.head()"
   ]
  },
  {
   "cell_type": "markdown",
   "id": "425e7392",
   "metadata": {
    "papermill": {
     "duration": 0.00988,
     "end_time": "2025-02-26T15:20:58.477153",
     "exception": false,
     "start_time": "2025-02-26T15:20:58.467273",
     "status": "completed"
    },
    "tags": []
   },
   "source": [
    "#  1. cc_num"
   ]
  },
  {
   "cell_type": "code",
   "execution_count": 19,
   "id": "0ab42cad",
   "metadata": {
    "execution": {
     "iopub.execute_input": "2025-02-26T15:20:58.498607Z",
     "iopub.status.busy": "2025-02-26T15:20:58.498212Z",
     "iopub.status.idle": "2025-02-26T15:20:58.514470Z",
     "shell.execute_reply": "2025-02-26T15:20:58.513428Z"
    },
    "papermill": {
     "duration": 0.028886,
     "end_time": "2025-02-26T15:20:58.516163",
     "exception": false,
     "start_time": "2025-02-26T15:20:58.487277",
     "status": "completed"
    },
    "tags": []
   },
   "outputs": [
    {
     "data": {
      "text/plain": [
       "cc_num\n",
       "4512828414983801773    3123\n",
       "571365235126           3123\n",
       "36722699017270         3119\n",
       "213112402583773        3117\n",
       "3545109339866548       3113\n",
       "                       ... \n",
       "4734310647841293          7\n",
       "4714017207228610634       7\n",
       "6011732631674654          7\n",
       "501894933032              7\n",
       "4975457191020             7\n",
       "Name: count, Length: 983, dtype: int64"
      ]
     },
     "execution_count": 19,
     "metadata": {},
     "output_type": "execute_result"
    }
   ],
   "source": [
    "df['cc_num'].value_counts()"
   ]
  },
  {
   "cell_type": "code",
   "execution_count": 20,
   "id": "f47a140e",
   "metadata": {
    "execution": {
     "iopub.execute_input": "2025-02-26T15:20:58.538845Z",
     "iopub.status.busy": "2025-02-26T15:20:58.538472Z",
     "iopub.status.idle": "2025-02-26T15:20:58.555461Z",
     "shell.execute_reply": "2025-02-26T15:20:58.554187Z"
    },
    "papermill": {
     "duration": 0.030665,
     "end_time": "2025-02-26T15:20:58.557474",
     "exception": false,
     "start_time": "2025-02-26T15:20:58.526809",
     "status": "completed"
    },
    "tags": []
   },
   "outputs": [
    {
     "data": {
      "text/plain": [
       "cc_num\n",
       "4593569795412          19\n",
       "3520550088202337       19\n",
       "4260128500325          18\n",
       "3518669219150142       16\n",
       "30074693890476         16\n",
       "                       ..\n",
       "3576431665303017        2\n",
       "4809701904914           2\n",
       "4089096483689733451     2\n",
       "6011109736646996        2\n",
       "4005676619255478        2\n",
       "Name: count, Length: 762, dtype: int64"
      ]
     },
     "execution_count": 20,
     "metadata": {},
     "output_type": "execute_result"
    }
   ],
   "source": [
    "df[df['is_fraud']==1].cc_num.value_counts()"
   ]
  },
  {
   "cell_type": "markdown",
   "id": "65d46b1a",
   "metadata": {
    "papermill": {
     "duration": 0.010282,
     "end_time": "2025-02-26T15:20:58.578660",
     "exception": false,
     "start_time": "2025-02-26T15:20:58.568378",
     "status": "completed"
    },
    "tags": []
   },
   "source": [
    "cc_num does decide the fraud case thus we can remove cc_num"
   ]
  },
  {
   "cell_type": "code",
   "execution_count": 21,
   "id": "9769d957",
   "metadata": {
    "execution": {
     "iopub.execute_input": "2025-02-26T15:20:58.603784Z",
     "iopub.status.busy": "2025-02-26T15:20:58.603433Z",
     "iopub.status.idle": "2025-02-26T15:20:58.734125Z",
     "shell.execute_reply": "2025-02-26T15:20:58.733081Z"
    },
    "papermill": {
     "duration": 0.145353,
     "end_time": "2025-02-26T15:20:58.736317",
     "exception": false,
     "start_time": "2025-02-26T15:20:58.590964",
     "status": "completed"
    },
    "tags": []
   },
   "outputs": [],
   "source": [
    "df.drop(columns=['cc_num'],inplace=True)"
   ]
  },
  {
   "cell_type": "markdown",
   "id": "766cc280",
   "metadata": {
    "papermill": {
     "duration": 0.0095,
     "end_time": "2025-02-26T15:20:58.756576",
     "exception": false,
     "start_time": "2025-02-26T15:20:58.747076",
     "status": "completed"
    },
    "tags": []
   },
   "source": [
    "#  2. merchant"
   ]
  },
  {
   "cell_type": "code",
   "execution_count": 22,
   "id": "ebac1182",
   "metadata": {
    "execution": {
     "iopub.execute_input": "2025-02-26T15:20:58.779473Z",
     "iopub.status.busy": "2025-02-26T15:20:58.779143Z",
     "iopub.status.idle": "2025-02-26T15:20:58.856390Z",
     "shell.execute_reply": "2025-02-26T15:20:58.855295Z"
    },
    "papermill": {
     "duration": 0.090075,
     "end_time": "2025-02-26T15:20:58.858134",
     "exception": false,
     "start_time": "2025-02-26T15:20:58.768059",
     "status": "completed"
    },
    "tags": []
   },
   "outputs": [
    {
     "data": {
      "text/plain": [
       "merchant\n",
       "fraud_Kilback LLC                       4403\n",
       "fraud_Cormier LLC                       3649\n",
       "fraud_Schumm PLC                        3634\n",
       "fraud_Kuhn LLC                          3510\n",
       "fraud_Boyer PLC                         3493\n",
       "                                        ... \n",
       "fraud_Douglas, DuBuque and McKenzie      775\n",
       "fraud_Treutel-King                       775\n",
       "fraud_Medhurst, Labadie and Gottlieb     759\n",
       "fraud_Reichert-Weissnat                  753\n",
       "fraud_Hahn, Douglas and Schowalter       727\n",
       "Name: count, Length: 693, dtype: int64"
      ]
     },
     "execution_count": 22,
     "metadata": {},
     "output_type": "execute_result"
    }
   ],
   "source": [
    "df.merchant.value_counts()"
   ]
  },
  {
   "cell_type": "code",
   "execution_count": 23,
   "id": "95a6bf4c",
   "metadata": {
    "execution": {
     "iopub.execute_input": "2025-02-26T15:20:58.883696Z",
     "iopub.status.busy": "2025-02-26T15:20:58.883354Z",
     "iopub.status.idle": "2025-02-26T15:20:58.902698Z",
     "shell.execute_reply": "2025-02-26T15:20:58.901204Z"
    },
    "papermill": {
     "duration": 0.035246,
     "end_time": "2025-02-26T15:20:58.905018",
     "exception": false,
     "start_time": "2025-02-26T15:20:58.869772",
     "status": "completed"
    },
    "tags": []
   },
   "outputs": [
    {
     "data": {
      "text/plain": [
       "merchant\n",
       "fraud_Rau and Sons                        49\n",
       "fraud_Kozey-Boehm                         48\n",
       "fraud_Cormier LLC                         48\n",
       "fraud_Doyle Ltd                           47\n",
       "fraud_Kilback LLC                         47\n",
       "fraud_Vandervort-Funk                     47\n",
       "fraud_Padberg-Welch                       44\n",
       "fraud_Kuhn LLC                            44\n",
       "fraud_Terry-Huel                          43\n",
       "fraud_Jast Ltd                            42\n",
       "fraud_Goyette Inc                         42\n",
       "fraud_Koepp-Witting                       42\n",
       "fraud_Schmeler, Bashirian and Price       41\n",
       "fraud_Kerluke-Abshire                     41\n",
       "fraud_Kiehn-Emmerich                      41\n",
       "fraud_McDermott-Weimann                   41\n",
       "fraud_Hudson-Ratke                        40\n",
       "fraud_Moen, Reinger and Murphy            40\n",
       "fraud_Boyer PLC                           40\n",
       "fraud_Murray-Smitham                      40\n",
       "fraud_Gleason-Macejkovic                  40\n",
       "fraud_Bailey-Morar                        39\n",
       "fraud_Kuhic, Bins and Pfeffer             39\n",
       "fraud_Langworth, Boehm and Gulgowski      39\n",
       "fraud_Kuhic LLC                           39\n",
       "fraud_Stracke-Lemke                       38\n",
       "fraud_Baumbach, Feeney and Morar          38\n",
       "fraud_Price Inc                           38\n",
       "fraud_Boyer-Reichert                      38\n",
       "fraud_Lockman, West and Runte             38\n",
       "fraud_Bradtke PLC                         37\n",
       "fraud_Schumm, Bauch and Ondricka          37\n",
       "fraud_Lockman Ltd                         36\n",
       "fraud_Fisher-Schowalter                   36\n",
       "fraud_Schmidt and Sons                    36\n",
       "fraud_Mosciski, Gislason and Mertz        36\n",
       "fraud_Goldner, Kovacek and Abbott         36\n",
       "fraud_Pacocha-O'Reilly                    36\n",
       "fraud_Stanton, Jakubowski and Baumbach    36\n",
       "fraud_Greenholt, O'Hara and Balistreri    36\n",
       "fraud_Osinski, Ledner and Leuschke        35\n",
       "fraud_Koepp-Parker                        35\n",
       "fraud_Schultz, Simonis and Little         35\n",
       "fraud_Fisher Inc                          35\n",
       "fraud_Gottlieb, Considine and Schultz     35\n",
       "fraud_Mosciski, Ziemann and Farrell       35\n",
       "fraud_Strosin-Cruickshank                 35\n",
       "fraud_Kunze Inc                           35\n",
       "fraud_Labadie, Treutel and Bode           35\n",
       "fraud_Auer-Mosciski                       35\n",
       "Name: count, dtype: int64"
      ]
     },
     "execution_count": 23,
     "metadata": {},
     "output_type": "execute_result"
    }
   ],
   "source": [
    "df[df['is_fraud']==1].merchant.value_counts().head(50)"
   ]
  },
  {
   "cell_type": "markdown",
   "id": "e8c5f1d8",
   "metadata": {
    "papermill": {
     "duration": 0.010874,
     "end_time": "2025-02-26T15:20:58.927250",
     "exception": false,
     "start_time": "2025-02-26T15:20:58.916376",
     "status": "completed"
    },
    "tags": []
   },
   "source": [
    "As fraudster can use different names , it is not imp as a feature"
   ]
  },
  {
   "cell_type": "code",
   "execution_count": 24,
   "id": "071c3c7c",
   "metadata": {
    "execution": {
     "iopub.execute_input": "2025-02-26T15:20:58.950337Z",
     "iopub.status.busy": "2025-02-26T15:20:58.949940Z",
     "iopub.status.idle": "2025-02-26T15:20:59.129050Z",
     "shell.execute_reply": "2025-02-26T15:20:59.127459Z"
    },
    "papermill": {
     "duration": 0.192368,
     "end_time": "2025-02-26T15:20:59.131137",
     "exception": false,
     "start_time": "2025-02-26T15:20:58.938769",
     "status": "completed"
    },
    "tags": []
   },
   "outputs": [],
   "source": [
    "df.drop(columns=['merchant'],inplace=True)"
   ]
  },
  {
   "cell_type": "markdown",
   "id": "e73ca9a7",
   "metadata": {
    "papermill": {
     "duration": 0.010744,
     "end_time": "2025-02-26T15:20:59.153621",
     "exception": false,
     "start_time": "2025-02-26T15:20:59.142877",
     "status": "completed"
    },
    "tags": []
   },
   "source": [
    "#  2. Category"
   ]
  },
  {
   "cell_type": "markdown",
   "id": "6807a728",
   "metadata": {
    "papermill": {
     "duration": 0.010663,
     "end_time": "2025-02-26T15:20:59.175287",
     "exception": false,
     "start_time": "2025-02-26T15:20:59.164624",
     "status": "completed"
    },
    "tags": []
   },
   "source": []
  },
  {
   "cell_type": "code",
   "execution_count": 25,
   "id": "03a99aa0",
   "metadata": {
    "execution": {
     "iopub.execute_input": "2025-02-26T15:20:59.197890Z",
     "iopub.status.busy": "2025-02-26T15:20:59.197575Z",
     "iopub.status.idle": "2025-02-26T15:20:59.269199Z",
     "shell.execute_reply": "2025-02-26T15:20:59.268150Z"
    },
    "papermill": {
     "duration": 0.085133,
     "end_time": "2025-02-26T15:20:59.271162",
     "exception": false,
     "start_time": "2025-02-26T15:20:59.186029",
     "status": "completed"
    },
    "tags": []
   },
   "outputs": [
    {
     "data": {
      "text/plain": [
       "category\n",
       "gas_transport     131659\n",
       "grocery_pos       123638\n",
       "home              123115\n",
       "shopping_pos      116672\n",
       "kids_pets         113035\n",
       "shopping_net       97543\n",
       "entertainment      94014\n",
       "food_dining        91461\n",
       "personal_care      90758\n",
       "health_fitness     85879\n",
       "misc_pos           79655\n",
       "misc_net           63287\n",
       "grocery_net        45452\n",
       "travel             40507\n",
       "Name: count, dtype: int64"
      ]
     },
     "execution_count": 25,
     "metadata": {},
     "output_type": "execute_result"
    }
   ],
   "source": [
    "df.category.value_counts()"
   ]
  },
  {
   "cell_type": "code",
   "execution_count": 26,
   "id": "a2b1955d",
   "metadata": {
    "execution": {
     "iopub.execute_input": "2025-02-26T15:20:59.352153Z",
     "iopub.status.busy": "2025-02-26T15:20:59.351825Z",
     "iopub.status.idle": "2025-02-26T15:20:59.366323Z",
     "shell.execute_reply": "2025-02-26T15:20:59.365253Z"
    },
    "papermill": {
     "duration": 0.085343,
     "end_time": "2025-02-26T15:20:59.367731",
     "exception": false,
     "start_time": "2025-02-26T15:20:59.282388",
     "status": "completed"
    },
    "tags": []
   },
   "outputs": [
    {
     "data": {
      "text/plain": [
       "category\n",
       "grocery_pos       1743\n",
       "shopping_net      1713\n",
       "misc_net           915\n",
       "shopping_pos       843\n",
       "gas_transport      618\n",
       "misc_pos           250\n",
       "kids_pets          239\n",
       "entertainment      233\n",
       "personal_care      220\n",
       "home               198\n",
       "food_dining        151\n",
       "grocery_net        134\n",
       "health_fitness     133\n",
       "travel             116\n",
       "Name: count, dtype: int64"
      ]
     },
     "execution_count": 26,
     "metadata": {},
     "output_type": "execute_result"
    }
   ],
   "source": [
    "df[df['is_fraud']==1].category.value_counts()"
   ]
  },
  {
   "cell_type": "code",
   "execution_count": 27,
   "id": "f8a26975",
   "metadata": {
    "execution": {
     "iopub.execute_input": "2025-02-26T15:20:59.390900Z",
     "iopub.status.busy": "2025-02-26T15:20:59.390575Z",
     "iopub.status.idle": "2025-02-26T15:20:59.404710Z",
     "shell.execute_reply": "2025-02-26T15:20:59.403596Z"
    },
    "papermill": {
     "duration": 0.027216,
     "end_time": "2025-02-26T15:20:59.406343",
     "exception": false,
     "start_time": "2025-02-26T15:20:59.379127",
     "status": "completed"
    },
    "tags": []
   },
   "outputs": [
    {
     "data": {
      "text/plain": [
       "np.float64(77.6978417266187)"
      ]
     },
     "execution_count": 27,
     "metadata": {},
     "output_type": "execute_result"
    }
   ],
   "source": [
    "(1743+1713+915+843+618)/(df[df['is_fraud']==1].category.value_counts().sum())*100"
   ]
  },
  {
   "cell_type": "code",
   "execution_count": 28,
   "id": "941c1629",
   "metadata": {
    "execution": {
     "iopub.execute_input": "2025-02-26T15:20:59.430254Z",
     "iopub.status.busy": "2025-02-26T15:20:59.429879Z",
     "iopub.status.idle": "2025-02-26T15:20:59.513291Z",
     "shell.execute_reply": "2025-02-26T15:20:59.512319Z"
    },
    "papermill": {
     "duration": 0.097359,
     "end_time": "2025-02-26T15:20:59.514952",
     "exception": false,
     "start_time": "2025-02-26T15:20:59.417593",
     "status": "completed"
    },
    "tags": []
   },
   "outputs": [
    {
     "data": {
      "text/plain": [
       "category\n",
       "grocery_pos       14460822.38\n",
       "shopping_pos       9307993.61\n",
       "shopping_net       8625149.68\n",
       "gas_transport      8351732.29\n",
       "home               7173928.11\n",
       "kids_pets          6503680.16\n",
       "entertainment      6036678.56\n",
       "misc_net           5117709.26\n",
       "misc_pos           5009582.50\n",
       "food_dining        4672459.44\n",
       "health_fitness     4653108.02\n",
       "travel             4516721.68\n",
       "personal_care      4353450.53\n",
       "grocery_net        2439412.68\n",
       "Name: amt, dtype: float64"
      ]
     },
     "execution_count": 28,
     "metadata": {},
     "output_type": "execute_result"
    }
   ],
   "source": [
    "df.groupby('category')['amt'].sum().sort_values(ascending=False)"
   ]
  },
  {
   "cell_type": "code",
   "execution_count": 29,
   "id": "1e93387f",
   "metadata": {
    "execution": {
     "iopub.execute_input": "2025-02-26T15:20:59.540355Z",
     "iopub.status.busy": "2025-02-26T15:20:59.539973Z",
     "iopub.status.idle": "2025-02-26T15:20:59.638151Z",
     "shell.execute_reply": "2025-02-26T15:20:59.636666Z"
    },
    "papermill": {
     "duration": 0.113897,
     "end_time": "2025-02-26T15:20:59.640087",
     "exception": false,
     "start_time": "2025-02-26T15:20:59.526190",
     "status": "completed"
    },
    "tags": []
   },
   "outputs": [
    {
     "data": {
      "text/plain": [
       "np.float64(52.53053075634562)"
      ]
     },
     "execution_count": 29,
     "metadata": {},
     "output_type": "execute_result"
    }
   ],
   "source": [
    "(14460822.38+9307993.61+8625149.68+8351732.29+7173928.11)/(df.groupby('category')['amt'].sum().sum())*100"
   ]
  },
  {
   "cell_type": "markdown",
   "id": "e7c12d6b",
   "metadata": {
    "papermill": {
     "duration": 0.010782,
     "end_time": "2025-02-26T15:20:59.662326",
     "exception": false,
     "start_time": "2025-02-26T15:20:59.651544",
     "status": "completed"
    },
    "tags": []
   },
   "source": [
    "Here we can see around 77 % of category is decided by grocery_pos shopping_net misc_net shopping_pos gas_transport.  \n",
    "Thus we can replace other categories by \"other\" and use one hot encoding"
   ]
  },
  {
   "cell_type": "code",
   "execution_count": 30,
   "id": "2913fd42",
   "metadata": {
    "execution": {
     "iopub.execute_input": "2025-02-26T15:20:59.689337Z",
     "iopub.status.busy": "2025-02-26T15:20:59.688894Z",
     "iopub.status.idle": "2025-02-26T15:20:59.694058Z",
     "shell.execute_reply": "2025-02-26T15:20:59.692728Z"
    },
    "papermill": {
     "duration": 0.01962,
     "end_time": "2025-02-26T15:20:59.695780",
     "exception": false,
     "start_time": "2025-02-26T15:20:59.676160",
     "status": "completed"
    },
    "tags": []
   },
   "outputs": [],
   "source": [
    "def convert_to_other(instance):\n",
    "    if(instance in ['grocery_pos', 'shopping_net', 'misc_net','shopping_pos', 'gas_transport']):\n",
    "        return instance\n",
    "    else :\n",
    "        return 'others'"
   ]
  },
  {
   "cell_type": "code",
   "execution_count": 31,
   "id": "a74b9994",
   "metadata": {
    "execution": {
     "iopub.execute_input": "2025-02-26T15:20:59.719164Z",
     "iopub.status.busy": "2025-02-26T15:20:59.718827Z",
     "iopub.status.idle": "2025-02-26T15:20:59.903001Z",
     "shell.execute_reply": "2025-02-26T15:20:59.902169Z"
    },
    "papermill": {
     "duration": 0.197516,
     "end_time": "2025-02-26T15:20:59.904661",
     "exception": false,
     "start_time": "2025-02-26T15:20:59.707145",
     "status": "completed"
    },
    "tags": []
   },
   "outputs": [],
   "source": [
    "df['category']=df['category'].apply(convert_to_other)"
   ]
  },
  {
   "cell_type": "code",
   "execution_count": 32,
   "id": "16074d4e",
   "metadata": {
    "execution": {
     "iopub.execute_input": "2025-02-26T15:20:59.927463Z",
     "iopub.status.busy": "2025-02-26T15:20:59.927079Z",
     "iopub.status.idle": "2025-02-26T15:20:59.989611Z",
     "shell.execute_reply": "2025-02-26T15:20:59.988420Z"
    },
    "papermill": {
     "duration": 0.075786,
     "end_time": "2025-02-26T15:20:59.991477",
     "exception": false,
     "start_time": "2025-02-26T15:20:59.915691",
     "status": "completed"
    },
    "tags": []
   },
   "outputs": [
    {
     "data": {
      "text/plain": [
       "category\n",
       "others           763876\n",
       "gas_transport    131659\n",
       "grocery_pos      123638\n",
       "shopping_pos     116672\n",
       "shopping_net      97543\n",
       "misc_net          63287\n",
       "Name: count, dtype: int64"
      ]
     },
     "execution_count": 32,
     "metadata": {},
     "output_type": "execute_result"
    }
   ],
   "source": [
    "df.category.value_counts()"
   ]
  },
  {
   "cell_type": "code",
   "execution_count": 33,
   "id": "1d330469",
   "metadata": {
    "execution": {
     "iopub.execute_input": "2025-02-26T15:21:00.017535Z",
     "iopub.status.busy": "2025-02-26T15:21:00.017153Z",
     "iopub.status.idle": "2025-02-26T15:21:00.032711Z",
     "shell.execute_reply": "2025-02-26T15:21:00.031450Z"
    },
    "papermill": {
     "duration": 0.02953,
     "end_time": "2025-02-26T15:21:00.034479",
     "exception": false,
     "start_time": "2025-02-26T15:21:00.004949",
     "status": "completed"
    },
    "tags": []
   },
   "outputs": [
    {
     "data": {
      "text/html": [
       "<div>\n",
       "<style scoped>\n",
       "    .dataframe tbody tr th:only-of-type {\n",
       "        vertical-align: middle;\n",
       "    }\n",
       "\n",
       "    .dataframe tbody tr th {\n",
       "        vertical-align: top;\n",
       "    }\n",
       "\n",
       "    .dataframe thead th {\n",
       "        text-align: right;\n",
       "    }\n",
       "</style>\n",
       "<table border=\"1\" class=\"dataframe\">\n",
       "  <thead>\n",
       "    <tr style=\"text-align: right;\">\n",
       "      <th></th>\n",
       "      <th>trans_date_trans_time</th>\n",
       "      <th>category</th>\n",
       "      <th>amt</th>\n",
       "      <th>first</th>\n",
       "      <th>last</th>\n",
       "      <th>gender</th>\n",
       "      <th>street</th>\n",
       "      <th>city</th>\n",
       "      <th>state</th>\n",
       "      <th>zip</th>\n",
       "      <th>lat</th>\n",
       "      <th>long</th>\n",
       "      <th>city_pop</th>\n",
       "      <th>job</th>\n",
       "      <th>dob</th>\n",
       "      <th>trans_num</th>\n",
       "      <th>unix_time</th>\n",
       "      <th>merch_lat</th>\n",
       "      <th>merch_long</th>\n",
       "      <th>is_fraud</th>\n",
       "    </tr>\n",
       "  </thead>\n",
       "  <tbody>\n",
       "    <tr>\n",
       "      <th>0</th>\n",
       "      <td>2019-01-01 00:00:18</td>\n",
       "      <td>misc_net</td>\n",
       "      <td>4.97</td>\n",
       "      <td>Jennifer</td>\n",
       "      <td>Banks</td>\n",
       "      <td>F</td>\n",
       "      <td>561 Perry Cove</td>\n",
       "      <td>Moravian Falls</td>\n",
       "      <td>NC</td>\n",
       "      <td>28654</td>\n",
       "      <td>36.0788</td>\n",
       "      <td>-81.1781</td>\n",
       "      <td>3495</td>\n",
       "      <td>Psychologist, counselling</td>\n",
       "      <td>1988-03-09</td>\n",
       "      <td>0b242abb623afc578575680df30655b9</td>\n",
       "      <td>1325376018</td>\n",
       "      <td>36.011293</td>\n",
       "      <td>-82.048315</td>\n",
       "      <td>0</td>\n",
       "    </tr>\n",
       "    <tr>\n",
       "      <th>1</th>\n",
       "      <td>2019-01-01 00:00:44</td>\n",
       "      <td>grocery_pos</td>\n",
       "      <td>107.23</td>\n",
       "      <td>Stephanie</td>\n",
       "      <td>Gill</td>\n",
       "      <td>F</td>\n",
       "      <td>43039 Riley Greens Suite 393</td>\n",
       "      <td>Orient</td>\n",
       "      <td>WA</td>\n",
       "      <td>99160</td>\n",
       "      <td>48.8878</td>\n",
       "      <td>-118.2105</td>\n",
       "      <td>149</td>\n",
       "      <td>Special educational needs teacher</td>\n",
       "      <td>1978-06-21</td>\n",
       "      <td>1f76529f8574734946361c461b024d99</td>\n",
       "      <td>1325376044</td>\n",
       "      <td>49.159047</td>\n",
       "      <td>-118.186462</td>\n",
       "      <td>0</td>\n",
       "    </tr>\n",
       "    <tr>\n",
       "      <th>2</th>\n",
       "      <td>2019-01-01 00:00:51</td>\n",
       "      <td>others</td>\n",
       "      <td>220.11</td>\n",
       "      <td>Edward</td>\n",
       "      <td>Sanchez</td>\n",
       "      <td>M</td>\n",
       "      <td>594 White Dale Suite 530</td>\n",
       "      <td>Malad City</td>\n",
       "      <td>ID</td>\n",
       "      <td>83252</td>\n",
       "      <td>42.1808</td>\n",
       "      <td>-112.2620</td>\n",
       "      <td>4154</td>\n",
       "      <td>Nature conservation officer</td>\n",
       "      <td>1962-01-19</td>\n",
       "      <td>a1a22d70485983eac12b5b88dad1cf95</td>\n",
       "      <td>1325376051</td>\n",
       "      <td>43.150704</td>\n",
       "      <td>-112.154481</td>\n",
       "      <td>0</td>\n",
       "    </tr>\n",
       "    <tr>\n",
       "      <th>3</th>\n",
       "      <td>2019-01-01 00:01:16</td>\n",
       "      <td>gas_transport</td>\n",
       "      <td>45.00</td>\n",
       "      <td>Jeremy</td>\n",
       "      <td>White</td>\n",
       "      <td>M</td>\n",
       "      <td>9443 Cynthia Court Apt. 038</td>\n",
       "      <td>Boulder</td>\n",
       "      <td>MT</td>\n",
       "      <td>59632</td>\n",
       "      <td>46.2306</td>\n",
       "      <td>-112.1138</td>\n",
       "      <td>1939</td>\n",
       "      <td>Patent attorney</td>\n",
       "      <td>1967-01-12</td>\n",
       "      <td>6b849c168bdad6f867558c3793159a81</td>\n",
       "      <td>1325376076</td>\n",
       "      <td>47.034331</td>\n",
       "      <td>-112.561071</td>\n",
       "      <td>0</td>\n",
       "    </tr>\n",
       "    <tr>\n",
       "      <th>4</th>\n",
       "      <td>2019-01-01 00:03:06</td>\n",
       "      <td>others</td>\n",
       "      <td>41.96</td>\n",
       "      <td>Tyler</td>\n",
       "      <td>Garcia</td>\n",
       "      <td>M</td>\n",
       "      <td>408 Bradley Rest</td>\n",
       "      <td>Doe Hill</td>\n",
       "      <td>VA</td>\n",
       "      <td>24433</td>\n",
       "      <td>38.4207</td>\n",
       "      <td>-79.4629</td>\n",
       "      <td>99</td>\n",
       "      <td>Dance movement psychotherapist</td>\n",
       "      <td>1986-03-28</td>\n",
       "      <td>a41d7549acf90789359a9aa5346dcb46</td>\n",
       "      <td>1325376186</td>\n",
       "      <td>38.674999</td>\n",
       "      <td>-78.632459</td>\n",
       "      <td>0</td>\n",
       "    </tr>\n",
       "  </tbody>\n",
       "</table>\n",
       "</div>"
      ],
      "text/plain": [
       "  trans_date_trans_time       category     amt      first     last gender  \\\n",
       "0   2019-01-01 00:00:18       misc_net    4.97   Jennifer    Banks      F   \n",
       "1   2019-01-01 00:00:44    grocery_pos  107.23  Stephanie     Gill      F   \n",
       "2   2019-01-01 00:00:51         others  220.11     Edward  Sanchez      M   \n",
       "3   2019-01-01 00:01:16  gas_transport   45.00     Jeremy    White      M   \n",
       "4   2019-01-01 00:03:06         others   41.96      Tyler   Garcia      M   \n",
       "\n",
       "                         street            city state    zip      lat  \\\n",
       "0                561 Perry Cove  Moravian Falls    NC  28654  36.0788   \n",
       "1  43039 Riley Greens Suite 393          Orient    WA  99160  48.8878   \n",
       "2      594 White Dale Suite 530      Malad City    ID  83252  42.1808   \n",
       "3   9443 Cynthia Court Apt. 038         Boulder    MT  59632  46.2306   \n",
       "4              408 Bradley Rest        Doe Hill    VA  24433  38.4207   \n",
       "\n",
       "       long  city_pop                                job         dob  \\\n",
       "0  -81.1781      3495          Psychologist, counselling  1988-03-09   \n",
       "1 -118.2105       149  Special educational needs teacher  1978-06-21   \n",
       "2 -112.2620      4154        Nature conservation officer  1962-01-19   \n",
       "3 -112.1138      1939                    Patent attorney  1967-01-12   \n",
       "4  -79.4629        99     Dance movement psychotherapist  1986-03-28   \n",
       "\n",
       "                          trans_num   unix_time  merch_lat  merch_long  \\\n",
       "0  0b242abb623afc578575680df30655b9  1325376018  36.011293  -82.048315   \n",
       "1  1f76529f8574734946361c461b024d99  1325376044  49.159047 -118.186462   \n",
       "2  a1a22d70485983eac12b5b88dad1cf95  1325376051  43.150704 -112.154481   \n",
       "3  6b849c168bdad6f867558c3793159a81  1325376076  47.034331 -112.561071   \n",
       "4  a41d7549acf90789359a9aa5346dcb46  1325376186  38.674999  -78.632459   \n",
       "\n",
       "   is_fraud  \n",
       "0         0  \n",
       "1         0  \n",
       "2         0  \n",
       "3         0  \n",
       "4         0  "
      ]
     },
     "execution_count": 33,
     "metadata": {},
     "output_type": "execute_result"
    }
   ],
   "source": [
    "df.head()"
   ]
  },
  {
   "cell_type": "markdown",
   "id": "a4cbbf1b",
   "metadata": {
    "papermill": {
     "duration": 0.01101,
     "end_time": "2025-02-26T15:21:00.057543",
     "exception": false,
     "start_time": "2025-02-26T15:21:00.046533",
     "status": "completed"
    },
    "tags": []
   },
   "source": [
    "### Applying OneHotEncoding in category column"
   ]
  },
  {
   "cell_type": "code",
   "execution_count": 34,
   "id": "145abbac",
   "metadata": {
    "execution": {
     "iopub.execute_input": "2025-02-26T15:21:00.080873Z",
     "iopub.status.busy": "2025-02-26T15:21:00.080543Z",
     "iopub.status.idle": "2025-02-26T15:21:01.335905Z",
     "shell.execute_reply": "2025-02-26T15:21:01.334487Z"
    },
    "papermill": {
     "duration": 1.26923,
     "end_time": "2025-02-26T15:21:01.337781",
     "exception": false,
     "start_time": "2025-02-26T15:21:00.068551",
     "status": "completed"
    },
    "tags": []
   },
   "outputs": [
    {
     "data": {
      "text/html": [
       "<div>\n",
       "<style scoped>\n",
       "    .dataframe tbody tr th:only-of-type {\n",
       "        vertical-align: middle;\n",
       "    }\n",
       "\n",
       "    .dataframe tbody tr th {\n",
       "        vertical-align: top;\n",
       "    }\n",
       "\n",
       "    .dataframe thead th {\n",
       "        text-align: right;\n",
       "    }\n",
       "</style>\n",
       "<table border=\"1\" class=\"dataframe\">\n",
       "  <thead>\n",
       "    <tr style=\"text-align: right;\">\n",
       "      <th></th>\n",
       "      <th>trans_date_trans_time</th>\n",
       "      <th>amt</th>\n",
       "      <th>first</th>\n",
       "      <th>last</th>\n",
       "      <th>gender</th>\n",
       "      <th>street</th>\n",
       "      <th>city</th>\n",
       "      <th>state</th>\n",
       "      <th>zip</th>\n",
       "      <th>lat</th>\n",
       "      <th>...</th>\n",
       "      <th>trans_num</th>\n",
       "      <th>unix_time</th>\n",
       "      <th>merch_lat</th>\n",
       "      <th>merch_long</th>\n",
       "      <th>is_fraud</th>\n",
       "      <th>category_grocery_pos</th>\n",
       "      <th>category_misc_net</th>\n",
       "      <th>category_others</th>\n",
       "      <th>category_shopping_net</th>\n",
       "      <th>category_shopping_pos</th>\n",
       "    </tr>\n",
       "  </thead>\n",
       "  <tbody>\n",
       "    <tr>\n",
       "      <th>0</th>\n",
       "      <td>2019-01-01 00:00:18</td>\n",
       "      <td>4.97</td>\n",
       "      <td>Jennifer</td>\n",
       "      <td>Banks</td>\n",
       "      <td>F</td>\n",
       "      <td>561 Perry Cove</td>\n",
       "      <td>Moravian Falls</td>\n",
       "      <td>NC</td>\n",
       "      <td>28654</td>\n",
       "      <td>36.0788</td>\n",
       "      <td>...</td>\n",
       "      <td>0b242abb623afc578575680df30655b9</td>\n",
       "      <td>1325376018</td>\n",
       "      <td>36.011293</td>\n",
       "      <td>-82.048315</td>\n",
       "      <td>0</td>\n",
       "      <td>0.0</td>\n",
       "      <td>1.0</td>\n",
       "      <td>0.0</td>\n",
       "      <td>0.0</td>\n",
       "      <td>0.0</td>\n",
       "    </tr>\n",
       "    <tr>\n",
       "      <th>1</th>\n",
       "      <td>2019-01-01 00:00:44</td>\n",
       "      <td>107.23</td>\n",
       "      <td>Stephanie</td>\n",
       "      <td>Gill</td>\n",
       "      <td>F</td>\n",
       "      <td>43039 Riley Greens Suite 393</td>\n",
       "      <td>Orient</td>\n",
       "      <td>WA</td>\n",
       "      <td>99160</td>\n",
       "      <td>48.8878</td>\n",
       "      <td>...</td>\n",
       "      <td>1f76529f8574734946361c461b024d99</td>\n",
       "      <td>1325376044</td>\n",
       "      <td>49.159047</td>\n",
       "      <td>-118.186462</td>\n",
       "      <td>0</td>\n",
       "      <td>1.0</td>\n",
       "      <td>0.0</td>\n",
       "      <td>0.0</td>\n",
       "      <td>0.0</td>\n",
       "      <td>0.0</td>\n",
       "    </tr>\n",
       "    <tr>\n",
       "      <th>2</th>\n",
       "      <td>2019-01-01 00:00:51</td>\n",
       "      <td>220.11</td>\n",
       "      <td>Edward</td>\n",
       "      <td>Sanchez</td>\n",
       "      <td>M</td>\n",
       "      <td>594 White Dale Suite 530</td>\n",
       "      <td>Malad City</td>\n",
       "      <td>ID</td>\n",
       "      <td>83252</td>\n",
       "      <td>42.1808</td>\n",
       "      <td>...</td>\n",
       "      <td>a1a22d70485983eac12b5b88dad1cf95</td>\n",
       "      <td>1325376051</td>\n",
       "      <td>43.150704</td>\n",
       "      <td>-112.154481</td>\n",
       "      <td>0</td>\n",
       "      <td>0.0</td>\n",
       "      <td>0.0</td>\n",
       "      <td>1.0</td>\n",
       "      <td>0.0</td>\n",
       "      <td>0.0</td>\n",
       "    </tr>\n",
       "    <tr>\n",
       "      <th>3</th>\n",
       "      <td>2019-01-01 00:01:16</td>\n",
       "      <td>45.00</td>\n",
       "      <td>Jeremy</td>\n",
       "      <td>White</td>\n",
       "      <td>M</td>\n",
       "      <td>9443 Cynthia Court Apt. 038</td>\n",
       "      <td>Boulder</td>\n",
       "      <td>MT</td>\n",
       "      <td>59632</td>\n",
       "      <td>46.2306</td>\n",
       "      <td>...</td>\n",
       "      <td>6b849c168bdad6f867558c3793159a81</td>\n",
       "      <td>1325376076</td>\n",
       "      <td>47.034331</td>\n",
       "      <td>-112.561071</td>\n",
       "      <td>0</td>\n",
       "      <td>0.0</td>\n",
       "      <td>0.0</td>\n",
       "      <td>0.0</td>\n",
       "      <td>0.0</td>\n",
       "      <td>0.0</td>\n",
       "    </tr>\n",
       "    <tr>\n",
       "      <th>4</th>\n",
       "      <td>2019-01-01 00:03:06</td>\n",
       "      <td>41.96</td>\n",
       "      <td>Tyler</td>\n",
       "      <td>Garcia</td>\n",
       "      <td>M</td>\n",
       "      <td>408 Bradley Rest</td>\n",
       "      <td>Doe Hill</td>\n",
       "      <td>VA</td>\n",
       "      <td>24433</td>\n",
       "      <td>38.4207</td>\n",
       "      <td>...</td>\n",
       "      <td>a41d7549acf90789359a9aa5346dcb46</td>\n",
       "      <td>1325376186</td>\n",
       "      <td>38.674999</td>\n",
       "      <td>-78.632459</td>\n",
       "      <td>0</td>\n",
       "      <td>0.0</td>\n",
       "      <td>0.0</td>\n",
       "      <td>1.0</td>\n",
       "      <td>0.0</td>\n",
       "      <td>0.0</td>\n",
       "    </tr>\n",
       "  </tbody>\n",
       "</table>\n",
       "<p>5 rows × 24 columns</p>\n",
       "</div>"
      ],
      "text/plain": [
       "  trans_date_trans_time     amt      first     last gender  \\\n",
       "0   2019-01-01 00:00:18    4.97   Jennifer    Banks      F   \n",
       "1   2019-01-01 00:00:44  107.23  Stephanie     Gill      F   \n",
       "2   2019-01-01 00:00:51  220.11     Edward  Sanchez      M   \n",
       "3   2019-01-01 00:01:16   45.00     Jeremy    White      M   \n",
       "4   2019-01-01 00:03:06   41.96      Tyler   Garcia      M   \n",
       "\n",
       "                         street            city state    zip      lat  ...  \\\n",
       "0                561 Perry Cove  Moravian Falls    NC  28654  36.0788  ...   \n",
       "1  43039 Riley Greens Suite 393          Orient    WA  99160  48.8878  ...   \n",
       "2      594 White Dale Suite 530      Malad City    ID  83252  42.1808  ...   \n",
       "3   9443 Cynthia Court Apt. 038         Boulder    MT  59632  46.2306  ...   \n",
       "4              408 Bradley Rest        Doe Hill    VA  24433  38.4207  ...   \n",
       "\n",
       "                          trans_num   unix_time  merch_lat  merch_long  \\\n",
       "0  0b242abb623afc578575680df30655b9  1325376018  36.011293  -82.048315   \n",
       "1  1f76529f8574734946361c461b024d99  1325376044  49.159047 -118.186462   \n",
       "2  a1a22d70485983eac12b5b88dad1cf95  1325376051  43.150704 -112.154481   \n",
       "3  6b849c168bdad6f867558c3793159a81  1325376076  47.034331 -112.561071   \n",
       "4  a41d7549acf90789359a9aa5346dcb46  1325376186  38.674999  -78.632459   \n",
       "\n",
       "  is_fraud  category_grocery_pos  category_misc_net  category_others  \\\n",
       "0        0                   0.0                1.0              0.0   \n",
       "1        0                   1.0                0.0              0.0   \n",
       "2        0                   0.0                0.0              1.0   \n",
       "3        0                   0.0                0.0              0.0   \n",
       "4        0                   0.0                0.0              1.0   \n",
       "\n",
       "   category_shopping_net  category_shopping_pos  \n",
       "0                    0.0                    0.0  \n",
       "1                    0.0                    0.0  \n",
       "2                    0.0                    0.0  \n",
       "3                    0.0                    0.0  \n",
       "4                    0.0                    0.0  \n",
       "\n",
       "[5 rows x 24 columns]"
      ]
     },
     "execution_count": 34,
     "metadata": {},
     "output_type": "execute_result"
    }
   ],
   "source": [
    "\n",
    "\n",
    "from sklearn.preprocessing import OneHotEncoder\n",
    "\n",
    "encoder = OneHotEncoder(drop='first', sparse_output=False)\n",
    "# drop='first' removes one column to avoid redundancy which also remove multicollinearity\n",
    "# if we don't remove the input feature will have depencies. sum of values in the col will be 1 which can effect the performance\n",
    "\n",
    "encoded_array = encoder.fit_transform(df[['category']])\n",
    "\n",
    "encoded_df = pd.DataFrame(encoded_array, columns=encoder.get_feature_names_out(['category']))\n",
    "\n",
    "df = pd.concat([df.drop(columns=['category']), encoded_df], axis=1)\n",
    "df.head()\n",
    "\n"
   ]
  },
  {
   "cell_type": "markdown",
   "id": "ab3e5af2",
   "metadata": {
    "papermill": {
     "duration": 0.012234,
     "end_time": "2025-02-26T15:21:01.363936",
     "exception": false,
     "start_time": "2025-02-26T15:21:01.351702",
     "status": "completed"
    },
    "tags": []
   },
   "source": [
    "#  4. first & last"
   ]
  },
  {
   "cell_type": "markdown",
   "id": "a9cca423",
   "metadata": {
    "papermill": {
     "duration": 0.011112,
     "end_time": "2025-02-26T15:21:01.387057",
     "exception": false,
     "start_time": "2025-02-26T15:21:01.375945",
     "status": "completed"
    },
    "tags": []
   },
   "source": [
    "These are names which can't decide whether a person is fraudster so we can simply drop this column"
   ]
  },
  {
   "cell_type": "code",
   "execution_count": 35,
   "id": "3ed2f85d",
   "metadata": {
    "execution": {
     "iopub.execute_input": "2025-02-26T15:21:01.410643Z",
     "iopub.status.busy": "2025-02-26T15:21:01.410290Z",
     "iopub.status.idle": "2025-02-26T15:21:01.531429Z",
     "shell.execute_reply": "2025-02-26T15:21:01.530101Z"
    },
    "papermill": {
     "duration": 0.135293,
     "end_time": "2025-02-26T15:21:01.533311",
     "exception": false,
     "start_time": "2025-02-26T15:21:01.398018",
     "status": "completed"
    },
    "tags": []
   },
   "outputs": [],
   "source": [
    "df.drop(columns=['first','last'],inplace=True)"
   ]
  },
  {
   "cell_type": "markdown",
   "id": "f205a264",
   "metadata": {
    "papermill": {
     "duration": 0.012399,
     "end_time": "2025-02-26T15:21:01.557748",
     "exception": false,
     "start_time": "2025-02-26T15:21:01.545349",
     "status": "completed"
    },
    "tags": []
   },
   "source": [
    "#  5. gender"
   ]
  },
  {
   "cell_type": "markdown",
   "id": "6a71bb83",
   "metadata": {
    "papermill": {
     "duration": 0.011122,
     "end_time": "2025-02-26T15:21:01.582326",
     "exception": false,
     "start_time": "2025-02-26T15:21:01.571204",
     "status": "completed"
    },
    "tags": []
   },
   "source": [
    "Here we can use onehotencoder and removing one columns or simply use apply() to convert M-1 and F-0"
   ]
  },
  {
   "cell_type": "code",
   "execution_count": 36,
   "id": "e2c14d4c",
   "metadata": {
    "execution": {
     "iopub.execute_input": "2025-02-26T15:21:01.609057Z",
     "iopub.status.busy": "2025-02-26T15:21:01.608485Z",
     "iopub.status.idle": "2025-02-26T15:21:01.613588Z",
     "shell.execute_reply": "2025-02-26T15:21:01.612454Z"
    },
    "papermill": {
     "duration": 0.020998,
     "end_time": "2025-02-26T15:21:01.615517",
     "exception": false,
     "start_time": "2025-02-26T15:21:01.594519",
     "status": "completed"
    },
    "tags": []
   },
   "outputs": [],
   "source": [
    "def M_1_F_0(instance):\n",
    "    if(instance=='M'):\n",
    "        return 1;\n",
    "    return 0;"
   ]
  },
  {
   "cell_type": "code",
   "execution_count": 37,
   "id": "106ddb2a",
   "metadata": {
    "execution": {
     "iopub.execute_input": "2025-02-26T15:21:01.640466Z",
     "iopub.status.busy": "2025-02-26T15:21:01.640083Z",
     "iopub.status.idle": "2025-02-26T15:21:01.940892Z",
     "shell.execute_reply": "2025-02-26T15:21:01.939369Z"
    },
    "papermill": {
     "duration": 0.314895,
     "end_time": "2025-02-26T15:21:01.942637",
     "exception": false,
     "start_time": "2025-02-26T15:21:01.627742",
     "status": "completed"
    },
    "tags": []
   },
   "outputs": [],
   "source": [
    "df['gender']=df['gender'].apply(M_1_F_0)"
   ]
  },
  {
   "cell_type": "markdown",
   "id": "bd3445f4",
   "metadata": {
    "papermill": {
     "duration": 0.013226,
     "end_time": "2025-02-26T15:21:01.969090",
     "exception": false,
     "start_time": "2025-02-26T15:21:01.955864",
     "status": "completed"
    },
    "tags": []
   },
   "source": [
    "# 6. street,city,state,zip,dob\ttrans_num"
   ]
  },
  {
   "cell_type": "markdown",
   "id": "d29ff29c",
   "metadata": {
    "papermill": {
     "duration": 0.011118,
     "end_time": "2025-02-26T15:21:01.993202",
     "exception": false,
     "start_time": "2025-02-26T15:21:01.982084",
     "status": "completed"
    },
    "tags": []
   },
   "source": [
    "These  also does effect the dataset thus we can simply remove this."
   ]
  },
  {
   "cell_type": "code",
   "execution_count": 38,
   "id": "365d533c",
   "metadata": {
    "execution": {
     "iopub.execute_input": "2025-02-26T15:21:02.018257Z",
     "iopub.status.busy": "2025-02-26T15:21:02.017884Z",
     "iopub.status.idle": "2025-02-26T15:21:02.091306Z",
     "shell.execute_reply": "2025-02-26T15:21:02.090513Z"
    },
    "papermill": {
     "duration": 0.087615,
     "end_time": "2025-02-26T15:21:02.093247",
     "exception": false,
     "start_time": "2025-02-26T15:21:02.005632",
     "status": "completed"
    },
    "tags": []
   },
   "outputs": [
    {
     "data": {
      "text/plain": [
       "street\n",
       "864 Reynolds Plains                  3123\n",
       "0069 Robin Brooks Apt. 695           3123\n",
       "8172 Robertson Parkways Suite 072    3119\n",
       "4664 Sanchez Common Suite 930        3117\n",
       "8030 Beck Motorway                   3113\n",
       "                                     ... \n",
       "4940 Donald Throughway Apt. 219         7\n",
       "7065 Whitney Mountains                  7\n",
       "5273 Joseph Isle Suite 518              7\n",
       "9599 Washington Field Suite 238         7\n",
       "3437 Ross Flat Apt. 592                 7\n",
       "Name: count, Length: 983, dtype: int64"
      ]
     },
     "execution_count": 38,
     "metadata": {},
     "output_type": "execute_result"
    }
   ],
   "source": [
    "df.street.value_counts()"
   ]
  },
  {
   "cell_type": "code",
   "execution_count": 39,
   "id": "66686629",
   "metadata": {
    "execution": {
     "iopub.execute_input": "2025-02-26T15:21:02.118525Z",
     "iopub.status.busy": "2025-02-26T15:21:02.118099Z",
     "iopub.status.idle": "2025-02-26T15:21:02.134479Z",
     "shell.execute_reply": "2025-02-26T15:21:02.133581Z"
    },
    "papermill": {
     "duration": 0.030844,
     "end_time": "2025-02-26T15:21:02.135950",
     "exception": false,
     "start_time": "2025-02-26T15:21:02.105106",
     "status": "completed"
    },
    "tags": []
   },
   "outputs": [
    {
     "data": {
      "text/plain": [
       "city\n",
       "Houston           39\n",
       "Warren            33\n",
       "Huntsville        29\n",
       "Naples            29\n",
       "Tulsa             27\n",
       "                  ..\n",
       "Bethel             3\n",
       "Phenix City        2\n",
       "Phoenix            2\n",
       "Kilgore            2\n",
       "Denham Springs     2\n",
       "Name: count, Length: 702, dtype: int64"
      ]
     },
     "execution_count": 39,
     "metadata": {},
     "output_type": "execute_result"
    }
   ],
   "source": [
    "df[df.is_fraud==1].city.value_counts()"
   ]
  },
  {
   "cell_type": "code",
   "execution_count": 40,
   "id": "01c97fbf",
   "metadata": {
    "execution": {
     "iopub.execute_input": "2025-02-26T15:21:02.161333Z",
     "iopub.status.busy": "2025-02-26T15:21:02.160918Z",
     "iopub.status.idle": "2025-02-26T15:21:02.174298Z",
     "shell.execute_reply": "2025-02-26T15:21:02.173444Z"
    },
    "papermill": {
     "duration": 0.027673,
     "end_time": "2025-02-26T15:21:02.176030",
     "exception": false,
     "start_time": "2025-02-26T15:21:02.148357",
     "status": "completed"
    },
    "tags": []
   },
   "outputs": [
    {
     "data": {
      "text/plain": [
       "zip\n",
       "73754    3646\n",
       "34112    3613\n",
       "48088    3597\n",
       "82514    3527\n",
       "49628    3123\n",
       "         ... \n",
       "46510       7\n",
       "23523       7\n",
       "77027       7\n",
       "95688       7\n",
       "37411       7\n",
       "Name: count, Length: 970, dtype: int64"
      ]
     },
     "execution_count": 40,
     "metadata": {},
     "output_type": "execute_result"
    }
   ],
   "source": [
    "df['zip'].value_counts()"
   ]
  },
  {
   "cell_type": "code",
   "execution_count": 41,
   "id": "41b5789b",
   "metadata": {
    "execution": {
     "iopub.execute_input": "2025-02-26T15:21:02.201197Z",
     "iopub.status.busy": "2025-02-26T15:21:02.200843Z",
     "iopub.status.idle": "2025-02-26T15:21:02.292119Z",
     "shell.execute_reply": "2025-02-26T15:21:02.290828Z"
    },
    "papermill": {
     "duration": 0.10565,
     "end_time": "2025-02-26T15:21:02.293850",
     "exception": false,
     "start_time": "2025-02-26T15:21:02.188200",
     "status": "completed"
    },
    "tags": []
   },
   "outputs": [],
   "source": [
    "df.drop(columns=['street','city','state','zip','dob','trans_num'],inplace=True)"
   ]
  },
  {
   "cell_type": "code",
   "execution_count": 42,
   "id": "5ef93504",
   "metadata": {
    "execution": {
     "iopub.execute_input": "2025-02-26T15:21:02.318788Z",
     "iopub.status.busy": "2025-02-26T15:21:02.318438Z",
     "iopub.status.idle": "2025-02-26T15:21:02.331936Z",
     "shell.execute_reply": "2025-02-26T15:21:02.331147Z"
    },
    "papermill": {
     "duration": 0.027263,
     "end_time": "2025-02-26T15:21:02.333090",
     "exception": false,
     "start_time": "2025-02-26T15:21:02.305827",
     "status": "completed"
    },
    "tags": []
   },
   "outputs": [
    {
     "data": {
      "text/html": [
       "<div>\n",
       "<style scoped>\n",
       "    .dataframe tbody tr th:only-of-type {\n",
       "        vertical-align: middle;\n",
       "    }\n",
       "\n",
       "    .dataframe tbody tr th {\n",
       "        vertical-align: top;\n",
       "    }\n",
       "\n",
       "    .dataframe thead th {\n",
       "        text-align: right;\n",
       "    }\n",
       "</style>\n",
       "<table border=\"1\" class=\"dataframe\">\n",
       "  <thead>\n",
       "    <tr style=\"text-align: right;\">\n",
       "      <th></th>\n",
       "      <th>trans_date_trans_time</th>\n",
       "      <th>amt</th>\n",
       "      <th>gender</th>\n",
       "      <th>lat</th>\n",
       "      <th>long</th>\n",
       "      <th>city_pop</th>\n",
       "      <th>job</th>\n",
       "      <th>unix_time</th>\n",
       "      <th>merch_lat</th>\n",
       "      <th>merch_long</th>\n",
       "      <th>is_fraud</th>\n",
       "      <th>category_grocery_pos</th>\n",
       "      <th>category_misc_net</th>\n",
       "      <th>category_others</th>\n",
       "      <th>category_shopping_net</th>\n",
       "      <th>category_shopping_pos</th>\n",
       "    </tr>\n",
       "  </thead>\n",
       "  <tbody>\n",
       "    <tr>\n",
       "      <th>0</th>\n",
       "      <td>2019-01-01 00:00:18</td>\n",
       "      <td>4.97</td>\n",
       "      <td>0</td>\n",
       "      <td>36.0788</td>\n",
       "      <td>-81.1781</td>\n",
       "      <td>3495</td>\n",
       "      <td>Psychologist, counselling</td>\n",
       "      <td>1325376018</td>\n",
       "      <td>36.011293</td>\n",
       "      <td>-82.048315</td>\n",
       "      <td>0</td>\n",
       "      <td>0.0</td>\n",
       "      <td>1.0</td>\n",
       "      <td>0.0</td>\n",
       "      <td>0.0</td>\n",
       "      <td>0.0</td>\n",
       "    </tr>\n",
       "    <tr>\n",
       "      <th>1</th>\n",
       "      <td>2019-01-01 00:00:44</td>\n",
       "      <td>107.23</td>\n",
       "      <td>0</td>\n",
       "      <td>48.8878</td>\n",
       "      <td>-118.2105</td>\n",
       "      <td>149</td>\n",
       "      <td>Special educational needs teacher</td>\n",
       "      <td>1325376044</td>\n",
       "      <td>49.159047</td>\n",
       "      <td>-118.186462</td>\n",
       "      <td>0</td>\n",
       "      <td>1.0</td>\n",
       "      <td>0.0</td>\n",
       "      <td>0.0</td>\n",
       "      <td>0.0</td>\n",
       "      <td>0.0</td>\n",
       "    </tr>\n",
       "    <tr>\n",
       "      <th>2</th>\n",
       "      <td>2019-01-01 00:00:51</td>\n",
       "      <td>220.11</td>\n",
       "      <td>1</td>\n",
       "      <td>42.1808</td>\n",
       "      <td>-112.2620</td>\n",
       "      <td>4154</td>\n",
       "      <td>Nature conservation officer</td>\n",
       "      <td>1325376051</td>\n",
       "      <td>43.150704</td>\n",
       "      <td>-112.154481</td>\n",
       "      <td>0</td>\n",
       "      <td>0.0</td>\n",
       "      <td>0.0</td>\n",
       "      <td>1.0</td>\n",
       "      <td>0.0</td>\n",
       "      <td>0.0</td>\n",
       "    </tr>\n",
       "    <tr>\n",
       "      <th>3</th>\n",
       "      <td>2019-01-01 00:01:16</td>\n",
       "      <td>45.00</td>\n",
       "      <td>1</td>\n",
       "      <td>46.2306</td>\n",
       "      <td>-112.1138</td>\n",
       "      <td>1939</td>\n",
       "      <td>Patent attorney</td>\n",
       "      <td>1325376076</td>\n",
       "      <td>47.034331</td>\n",
       "      <td>-112.561071</td>\n",
       "      <td>0</td>\n",
       "      <td>0.0</td>\n",
       "      <td>0.0</td>\n",
       "      <td>0.0</td>\n",
       "      <td>0.0</td>\n",
       "      <td>0.0</td>\n",
       "    </tr>\n",
       "    <tr>\n",
       "      <th>4</th>\n",
       "      <td>2019-01-01 00:03:06</td>\n",
       "      <td>41.96</td>\n",
       "      <td>1</td>\n",
       "      <td>38.4207</td>\n",
       "      <td>-79.4629</td>\n",
       "      <td>99</td>\n",
       "      <td>Dance movement psychotherapist</td>\n",
       "      <td>1325376186</td>\n",
       "      <td>38.674999</td>\n",
       "      <td>-78.632459</td>\n",
       "      <td>0</td>\n",
       "      <td>0.0</td>\n",
       "      <td>0.0</td>\n",
       "      <td>1.0</td>\n",
       "      <td>0.0</td>\n",
       "      <td>0.0</td>\n",
       "    </tr>\n",
       "  </tbody>\n",
       "</table>\n",
       "</div>"
      ],
      "text/plain": [
       "  trans_date_trans_time     amt  gender      lat      long  city_pop  \\\n",
       "0   2019-01-01 00:00:18    4.97       0  36.0788  -81.1781      3495   \n",
       "1   2019-01-01 00:00:44  107.23       0  48.8878 -118.2105       149   \n",
       "2   2019-01-01 00:00:51  220.11       1  42.1808 -112.2620      4154   \n",
       "3   2019-01-01 00:01:16   45.00       1  46.2306 -112.1138      1939   \n",
       "4   2019-01-01 00:03:06   41.96       1  38.4207  -79.4629        99   \n",
       "\n",
       "                                 job   unix_time  merch_lat  merch_long  \\\n",
       "0          Psychologist, counselling  1325376018  36.011293  -82.048315   \n",
       "1  Special educational needs teacher  1325376044  49.159047 -118.186462   \n",
       "2        Nature conservation officer  1325376051  43.150704 -112.154481   \n",
       "3                    Patent attorney  1325376076  47.034331 -112.561071   \n",
       "4     Dance movement psychotherapist  1325376186  38.674999  -78.632459   \n",
       "\n",
       "   is_fraud  category_grocery_pos  category_misc_net  category_others  \\\n",
       "0         0                   0.0                1.0              0.0   \n",
       "1         0                   1.0                0.0              0.0   \n",
       "2         0                   0.0                0.0              1.0   \n",
       "3         0                   0.0                0.0              0.0   \n",
       "4         0                   0.0                0.0              1.0   \n",
       "\n",
       "   category_shopping_net  category_shopping_pos  \n",
       "0                    0.0                    0.0  \n",
       "1                    0.0                    0.0  \n",
       "2                    0.0                    0.0  \n",
       "3                    0.0                    0.0  \n",
       "4                    0.0                    0.0  "
      ]
     },
     "execution_count": 42,
     "metadata": {},
     "output_type": "execute_result"
    }
   ],
   "source": [
    "df.head()"
   ]
  },
  {
   "cell_type": "markdown",
   "id": "0f56dd07",
   "metadata": {
    "papermill": {
     "duration": 0.011352,
     "end_time": "2025-02-26T15:21:02.356468",
     "exception": false,
     "start_time": "2025-02-26T15:21:02.345116",
     "status": "completed"
    },
    "tags": []
   },
   "source": [
    "# 7. unix_time"
   ]
  },
  {
   "cell_type": "markdown",
   "id": "f8f51aa3",
   "metadata": {
    "papermill": {
     "duration": 0.012783,
     "end_time": "2025-02-26T15:21:02.380922",
     "exception": false,
     "start_time": "2025-02-26T15:21:02.368139",
     "status": "completed"
    },
    "tags": []
   },
   "source": [
    "the unix_time column represents the timestamp of the transaction in Unix format (i.e., seconds since January 1, 1970, 00:00:00 UTC).  \n",
    "Having trans_date_trans_time we can simply drop this column"
   ]
  },
  {
   "cell_type": "code",
   "execution_count": 43,
   "id": "8ce7ddcd",
   "metadata": {
    "execution": {
     "iopub.execute_input": "2025-02-26T15:21:02.406951Z",
     "iopub.status.busy": "2025-02-26T15:21:02.406565Z",
     "iopub.status.idle": "2025-02-26T15:21:02.465361Z",
     "shell.execute_reply": "2025-02-26T15:21:02.464082Z"
    },
    "papermill": {
     "duration": 0.07357,
     "end_time": "2025-02-26T15:21:02.467181",
     "exception": false,
     "start_time": "2025-02-26T15:21:02.393611",
     "status": "completed"
    },
    "tags": []
   },
   "outputs": [],
   "source": [
    "df.drop(columns=['unix_time'],inplace=True)"
   ]
  },
  {
   "cell_type": "code",
   "execution_count": 44,
   "id": "631b8b8e",
   "metadata": {
    "execution": {
     "iopub.execute_input": "2025-02-26T15:21:02.492563Z",
     "iopub.status.busy": "2025-02-26T15:21:02.492194Z",
     "iopub.status.idle": "2025-02-26T15:21:02.505334Z",
     "shell.execute_reply": "2025-02-26T15:21:02.504350Z"
    },
    "papermill": {
     "duration": 0.02789,
     "end_time": "2025-02-26T15:21:02.507296",
     "exception": false,
     "start_time": "2025-02-26T15:21:02.479406",
     "status": "completed"
    },
    "tags": []
   },
   "outputs": [
    {
     "data": {
      "text/html": [
       "<div>\n",
       "<style scoped>\n",
       "    .dataframe tbody tr th:only-of-type {\n",
       "        vertical-align: middle;\n",
       "    }\n",
       "\n",
       "    .dataframe tbody tr th {\n",
       "        vertical-align: top;\n",
       "    }\n",
       "\n",
       "    .dataframe thead th {\n",
       "        text-align: right;\n",
       "    }\n",
       "</style>\n",
       "<table border=\"1\" class=\"dataframe\">\n",
       "  <thead>\n",
       "    <tr style=\"text-align: right;\">\n",
       "      <th></th>\n",
       "      <th>trans_date_trans_time</th>\n",
       "      <th>amt</th>\n",
       "      <th>gender</th>\n",
       "      <th>lat</th>\n",
       "      <th>long</th>\n",
       "      <th>city_pop</th>\n",
       "      <th>job</th>\n",
       "      <th>merch_lat</th>\n",
       "      <th>merch_long</th>\n",
       "      <th>is_fraud</th>\n",
       "      <th>category_grocery_pos</th>\n",
       "      <th>category_misc_net</th>\n",
       "      <th>category_others</th>\n",
       "      <th>category_shopping_net</th>\n",
       "      <th>category_shopping_pos</th>\n",
       "    </tr>\n",
       "  </thead>\n",
       "  <tbody>\n",
       "    <tr>\n",
       "      <th>0</th>\n",
       "      <td>2019-01-01 00:00:18</td>\n",
       "      <td>4.97</td>\n",
       "      <td>0</td>\n",
       "      <td>36.0788</td>\n",
       "      <td>-81.1781</td>\n",
       "      <td>3495</td>\n",
       "      <td>Psychologist, counselling</td>\n",
       "      <td>36.011293</td>\n",
       "      <td>-82.048315</td>\n",
       "      <td>0</td>\n",
       "      <td>0.0</td>\n",
       "      <td>1.0</td>\n",
       "      <td>0.0</td>\n",
       "      <td>0.0</td>\n",
       "      <td>0.0</td>\n",
       "    </tr>\n",
       "    <tr>\n",
       "      <th>1</th>\n",
       "      <td>2019-01-01 00:00:44</td>\n",
       "      <td>107.23</td>\n",
       "      <td>0</td>\n",
       "      <td>48.8878</td>\n",
       "      <td>-118.2105</td>\n",
       "      <td>149</td>\n",
       "      <td>Special educational needs teacher</td>\n",
       "      <td>49.159047</td>\n",
       "      <td>-118.186462</td>\n",
       "      <td>0</td>\n",
       "      <td>1.0</td>\n",
       "      <td>0.0</td>\n",
       "      <td>0.0</td>\n",
       "      <td>0.0</td>\n",
       "      <td>0.0</td>\n",
       "    </tr>\n",
       "    <tr>\n",
       "      <th>2</th>\n",
       "      <td>2019-01-01 00:00:51</td>\n",
       "      <td>220.11</td>\n",
       "      <td>1</td>\n",
       "      <td>42.1808</td>\n",
       "      <td>-112.2620</td>\n",
       "      <td>4154</td>\n",
       "      <td>Nature conservation officer</td>\n",
       "      <td>43.150704</td>\n",
       "      <td>-112.154481</td>\n",
       "      <td>0</td>\n",
       "      <td>0.0</td>\n",
       "      <td>0.0</td>\n",
       "      <td>1.0</td>\n",
       "      <td>0.0</td>\n",
       "      <td>0.0</td>\n",
       "    </tr>\n",
       "    <tr>\n",
       "      <th>3</th>\n",
       "      <td>2019-01-01 00:01:16</td>\n",
       "      <td>45.00</td>\n",
       "      <td>1</td>\n",
       "      <td>46.2306</td>\n",
       "      <td>-112.1138</td>\n",
       "      <td>1939</td>\n",
       "      <td>Patent attorney</td>\n",
       "      <td>47.034331</td>\n",
       "      <td>-112.561071</td>\n",
       "      <td>0</td>\n",
       "      <td>0.0</td>\n",
       "      <td>0.0</td>\n",
       "      <td>0.0</td>\n",
       "      <td>0.0</td>\n",
       "      <td>0.0</td>\n",
       "    </tr>\n",
       "    <tr>\n",
       "      <th>4</th>\n",
       "      <td>2019-01-01 00:03:06</td>\n",
       "      <td>41.96</td>\n",
       "      <td>1</td>\n",
       "      <td>38.4207</td>\n",
       "      <td>-79.4629</td>\n",
       "      <td>99</td>\n",
       "      <td>Dance movement psychotherapist</td>\n",
       "      <td>38.674999</td>\n",
       "      <td>-78.632459</td>\n",
       "      <td>0</td>\n",
       "      <td>0.0</td>\n",
       "      <td>0.0</td>\n",
       "      <td>1.0</td>\n",
       "      <td>0.0</td>\n",
       "      <td>0.0</td>\n",
       "    </tr>\n",
       "  </tbody>\n",
       "</table>\n",
       "</div>"
      ],
      "text/plain": [
       "  trans_date_trans_time     amt  gender      lat      long  city_pop  \\\n",
       "0   2019-01-01 00:00:18    4.97       0  36.0788  -81.1781      3495   \n",
       "1   2019-01-01 00:00:44  107.23       0  48.8878 -118.2105       149   \n",
       "2   2019-01-01 00:00:51  220.11       1  42.1808 -112.2620      4154   \n",
       "3   2019-01-01 00:01:16   45.00       1  46.2306 -112.1138      1939   \n",
       "4   2019-01-01 00:03:06   41.96       1  38.4207  -79.4629        99   \n",
       "\n",
       "                                 job  merch_lat  merch_long  is_fraud  \\\n",
       "0          Psychologist, counselling  36.011293  -82.048315         0   \n",
       "1  Special educational needs teacher  49.159047 -118.186462         0   \n",
       "2        Nature conservation officer  43.150704 -112.154481         0   \n",
       "3                    Patent attorney  47.034331 -112.561071         0   \n",
       "4     Dance movement psychotherapist  38.674999  -78.632459         0   \n",
       "\n",
       "   category_grocery_pos  category_misc_net  category_others  \\\n",
       "0                   0.0                1.0              0.0   \n",
       "1                   1.0                0.0              0.0   \n",
       "2                   0.0                0.0              1.0   \n",
       "3                   0.0                0.0              0.0   \n",
       "4                   0.0                0.0              1.0   \n",
       "\n",
       "   category_shopping_net  category_shopping_pos  \n",
       "0                    0.0                    0.0  \n",
       "1                    0.0                    0.0  \n",
       "2                    0.0                    0.0  \n",
       "3                    0.0                    0.0  \n",
       "4                    0.0                    0.0  "
      ]
     },
     "execution_count": 44,
     "metadata": {},
     "output_type": "execute_result"
    }
   ],
   "source": [
    "df.head()"
   ]
  },
  {
   "cell_type": "markdown",
   "id": "830514c0",
   "metadata": {
    "papermill": {
     "duration": 0.011457,
     "end_time": "2025-02-26T15:21:02.531023",
     "exception": false,
     "start_time": "2025-02-26T15:21:02.519566",
     "status": "completed"
    },
    "tags": []
   },
   "source": [
    "# 8. job"
   ]
  },
  {
   "cell_type": "code",
   "execution_count": 45,
   "id": "ea497bb1",
   "metadata": {
    "execution": {
     "iopub.execute_input": "2025-02-26T15:21:02.557123Z",
     "iopub.status.busy": "2025-02-26T15:21:02.556787Z",
     "iopub.status.idle": "2025-02-26T15:21:02.632306Z",
     "shell.execute_reply": "2025-02-26T15:21:02.631174Z"
    },
    "papermill": {
     "duration": 0.09076,
     "end_time": "2025-02-26T15:21:02.633825",
     "exception": false,
     "start_time": "2025-02-26T15:21:02.543065",
     "status": "completed"
    },
    "tags": []
   },
   "outputs": [
    {
     "data": {
      "text/plain": [
       "job\n",
       "Film/video editor             9779\n",
       "Exhibition designer           9199\n",
       "Naval architect               8684\n",
       "Surveyor, land/geomatics      8680\n",
       "Materials engineer            8270\n",
       "                              ... \n",
       "Veterinary surgeon               8\n",
       "Information officer              8\n",
       "Contracting civil engineer       7\n",
       "Ship broker                      7\n",
       "Warehouse manager                7\n",
       "Name: count, Length: 494, dtype: int64"
      ]
     },
     "execution_count": 45,
     "metadata": {},
     "output_type": "execute_result"
    }
   ],
   "source": [
    "df.job.value_counts()"
   ]
  },
  {
   "cell_type": "code",
   "execution_count": 46,
   "id": "eb9aed56",
   "metadata": {
    "execution": {
     "iopub.execute_input": "2025-02-26T15:21:02.659216Z",
     "iopub.status.busy": "2025-02-26T15:21:02.658867Z",
     "iopub.status.idle": "2025-02-26T15:21:02.671811Z",
     "shell.execute_reply": "2025-02-26T15:21:02.671032Z"
    },
    "papermill": {
     "duration": 0.027278,
     "end_time": "2025-02-26T15:21:02.673153",
     "exception": false,
     "start_time": "2025-02-26T15:21:02.645875",
     "status": "completed"
    },
    "tags": []
   },
   "outputs": [
    {
     "data": {
      "text/plain": [
       "job\n",
       "Materials engineer                      62\n",
       "Trading standards officer               56\n",
       "Naval architect                         53\n",
       "Exhibition designer                     51\n",
       "Surveyor, land/geomatics                50\n",
       "                                        ..\n",
       "Chartered loss adjuster                  3\n",
       "Health physicist                         3\n",
       "Statistician                             3\n",
       "Contractor                               2\n",
       "English as a second language teacher     2\n",
       "Name: count, Length: 443, dtype: int64"
      ]
     },
     "execution_count": 46,
     "metadata": {},
     "output_type": "execute_result"
    }
   ],
   "source": [
    "df[df.is_fraud==1].job.value_counts()"
   ]
  },
  {
   "cell_type": "code",
   "execution_count": 47,
   "id": "1f2cb1da",
   "metadata": {
    "execution": {
     "iopub.execute_input": "2025-02-26T15:21:02.700308Z",
     "iopub.status.busy": "2025-02-26T15:21:02.699881Z",
     "iopub.status.idle": "2025-02-26T15:21:02.710434Z",
     "shell.execute_reply": "2025-02-26T15:21:02.709331Z"
    },
    "papermill": {
     "duration": 0.026539,
     "end_time": "2025-02-26T15:21:02.712501",
     "exception": false,
     "start_time": "2025-02-26T15:21:02.685962",
     "status": "completed"
    },
    "tags": []
   },
   "outputs": [
    {
     "data": {
      "text/plain": [
       "3.6237676525446307"
      ]
     },
     "execution_count": 47,
     "metadata": {},
     "output_type": "execute_result"
    }
   ],
   "source": [
    "(62+56+53+51+50)/(len(df[df.is_fraud==1]))*100"
   ]
  },
  {
   "cell_type": "markdown",
   "id": "f320d786",
   "metadata": {
    "papermill": {
     "duration": 0.013067,
     "end_time": "2025-02-26T15:21:02.738377",
     "exception": false,
     "start_time": "2025-02-26T15:21:02.725310",
     "status": "completed"
    },
    "tags": []
   },
   "source": [
    "As top 5 is only contributing <4 % we can simply remove this column"
   ]
  },
  {
   "cell_type": "code",
   "execution_count": 48,
   "id": "af1f1363",
   "metadata": {
    "execution": {
     "iopub.execute_input": "2025-02-26T15:21:02.769088Z",
     "iopub.status.busy": "2025-02-26T15:21:02.768678Z",
     "iopub.status.idle": "2025-02-26T15:21:02.826114Z",
     "shell.execute_reply": "2025-02-26T15:21:02.825327Z"
    },
    "papermill": {
     "duration": 0.073275,
     "end_time": "2025-02-26T15:21:02.827789",
     "exception": false,
     "start_time": "2025-02-26T15:21:02.754514",
     "status": "completed"
    },
    "tags": []
   },
   "outputs": [],
   "source": [
    "df.drop(columns=['job'],inplace=True)"
   ]
  },
  {
   "cell_type": "code",
   "execution_count": 49,
   "id": "31446ef2",
   "metadata": {
    "execution": {
     "iopub.execute_input": "2025-02-26T15:21:02.855315Z",
     "iopub.status.busy": "2025-02-26T15:21:02.854903Z",
     "iopub.status.idle": "2025-02-26T15:21:02.871600Z",
     "shell.execute_reply": "2025-02-26T15:21:02.869857Z"
    },
    "papermill": {
     "duration": 0.033269,
     "end_time": "2025-02-26T15:21:02.873155",
     "exception": false,
     "start_time": "2025-02-26T15:21:02.839886",
     "status": "completed"
    },
    "tags": []
   },
   "outputs": [
    {
     "data": {
      "text/html": [
       "<div>\n",
       "<style scoped>\n",
       "    .dataframe tbody tr th:only-of-type {\n",
       "        vertical-align: middle;\n",
       "    }\n",
       "\n",
       "    .dataframe tbody tr th {\n",
       "        vertical-align: top;\n",
       "    }\n",
       "\n",
       "    .dataframe thead th {\n",
       "        text-align: right;\n",
       "    }\n",
       "</style>\n",
       "<table border=\"1\" class=\"dataframe\">\n",
       "  <thead>\n",
       "    <tr style=\"text-align: right;\">\n",
       "      <th></th>\n",
       "      <th>trans_date_trans_time</th>\n",
       "      <th>amt</th>\n",
       "      <th>gender</th>\n",
       "      <th>lat</th>\n",
       "      <th>long</th>\n",
       "      <th>city_pop</th>\n",
       "      <th>merch_lat</th>\n",
       "      <th>merch_long</th>\n",
       "      <th>is_fraud</th>\n",
       "      <th>category_grocery_pos</th>\n",
       "      <th>category_misc_net</th>\n",
       "      <th>category_others</th>\n",
       "      <th>category_shopping_net</th>\n",
       "      <th>category_shopping_pos</th>\n",
       "    </tr>\n",
       "  </thead>\n",
       "  <tbody>\n",
       "    <tr>\n",
       "      <th>0</th>\n",
       "      <td>2019-01-01 00:00:18</td>\n",
       "      <td>4.97</td>\n",
       "      <td>0</td>\n",
       "      <td>36.0788</td>\n",
       "      <td>-81.1781</td>\n",
       "      <td>3495</td>\n",
       "      <td>36.011293</td>\n",
       "      <td>-82.048315</td>\n",
       "      <td>0</td>\n",
       "      <td>0.0</td>\n",
       "      <td>1.0</td>\n",
       "      <td>0.0</td>\n",
       "      <td>0.0</td>\n",
       "      <td>0.0</td>\n",
       "    </tr>\n",
       "    <tr>\n",
       "      <th>1</th>\n",
       "      <td>2019-01-01 00:00:44</td>\n",
       "      <td>107.23</td>\n",
       "      <td>0</td>\n",
       "      <td>48.8878</td>\n",
       "      <td>-118.2105</td>\n",
       "      <td>149</td>\n",
       "      <td>49.159047</td>\n",
       "      <td>-118.186462</td>\n",
       "      <td>0</td>\n",
       "      <td>1.0</td>\n",
       "      <td>0.0</td>\n",
       "      <td>0.0</td>\n",
       "      <td>0.0</td>\n",
       "      <td>0.0</td>\n",
       "    </tr>\n",
       "    <tr>\n",
       "      <th>2</th>\n",
       "      <td>2019-01-01 00:00:51</td>\n",
       "      <td>220.11</td>\n",
       "      <td>1</td>\n",
       "      <td>42.1808</td>\n",
       "      <td>-112.2620</td>\n",
       "      <td>4154</td>\n",
       "      <td>43.150704</td>\n",
       "      <td>-112.154481</td>\n",
       "      <td>0</td>\n",
       "      <td>0.0</td>\n",
       "      <td>0.0</td>\n",
       "      <td>1.0</td>\n",
       "      <td>0.0</td>\n",
       "      <td>0.0</td>\n",
       "    </tr>\n",
       "    <tr>\n",
       "      <th>3</th>\n",
       "      <td>2019-01-01 00:01:16</td>\n",
       "      <td>45.00</td>\n",
       "      <td>1</td>\n",
       "      <td>46.2306</td>\n",
       "      <td>-112.1138</td>\n",
       "      <td>1939</td>\n",
       "      <td>47.034331</td>\n",
       "      <td>-112.561071</td>\n",
       "      <td>0</td>\n",
       "      <td>0.0</td>\n",
       "      <td>0.0</td>\n",
       "      <td>0.0</td>\n",
       "      <td>0.0</td>\n",
       "      <td>0.0</td>\n",
       "    </tr>\n",
       "    <tr>\n",
       "      <th>4</th>\n",
       "      <td>2019-01-01 00:03:06</td>\n",
       "      <td>41.96</td>\n",
       "      <td>1</td>\n",
       "      <td>38.4207</td>\n",
       "      <td>-79.4629</td>\n",
       "      <td>99</td>\n",
       "      <td>38.674999</td>\n",
       "      <td>-78.632459</td>\n",
       "      <td>0</td>\n",
       "      <td>0.0</td>\n",
       "      <td>0.0</td>\n",
       "      <td>1.0</td>\n",
       "      <td>0.0</td>\n",
       "      <td>0.0</td>\n",
       "    </tr>\n",
       "  </tbody>\n",
       "</table>\n",
       "</div>"
      ],
      "text/plain": [
       "  trans_date_trans_time     amt  gender      lat      long  city_pop  \\\n",
       "0   2019-01-01 00:00:18    4.97       0  36.0788  -81.1781      3495   \n",
       "1   2019-01-01 00:00:44  107.23       0  48.8878 -118.2105       149   \n",
       "2   2019-01-01 00:00:51  220.11       1  42.1808 -112.2620      4154   \n",
       "3   2019-01-01 00:01:16   45.00       1  46.2306 -112.1138      1939   \n",
       "4   2019-01-01 00:03:06   41.96       1  38.4207  -79.4629        99   \n",
       "\n",
       "   merch_lat  merch_long  is_fraud  category_grocery_pos  category_misc_net  \\\n",
       "0  36.011293  -82.048315         0                   0.0                1.0   \n",
       "1  49.159047 -118.186462         0                   1.0                0.0   \n",
       "2  43.150704 -112.154481         0                   0.0                0.0   \n",
       "3  47.034331 -112.561071         0                   0.0                0.0   \n",
       "4  38.674999  -78.632459         0                   0.0                0.0   \n",
       "\n",
       "   category_others  category_shopping_net  category_shopping_pos  \n",
       "0              0.0                    0.0                    0.0  \n",
       "1              0.0                    0.0                    0.0  \n",
       "2              1.0                    0.0                    0.0  \n",
       "3              0.0                    0.0                    0.0  \n",
       "4              1.0                    0.0                    0.0  "
      ]
     },
     "execution_count": 49,
     "metadata": {},
     "output_type": "execute_result"
    }
   ],
   "source": [
    "df.head()"
   ]
  },
  {
   "cell_type": "markdown",
   "id": "272cfd76",
   "metadata": {
    "papermill": {
     "duration": 0.012394,
     "end_time": "2025-02-26T15:21:02.899275",
     "exception": false,
     "start_time": "2025-02-26T15:21:02.886881",
     "status": "completed"
    },
    "tags": []
   },
   "source": [
    "# Getting different insigts on the basis of fraud vs non-fraud"
   ]
  },
  {
   "cell_type": "markdown",
   "id": "19e7b1ae",
   "metadata": {
    "papermill": {
     "duration": 0.012533,
     "end_time": "2025-02-26T15:21:02.924469",
     "exception": false,
     "start_time": "2025-02-26T15:21:02.911936",
     "status": "completed"
    },
    "tags": []
   },
   "source": [
    "## Fraud,Non-Fraud vs Amount"
   ]
  },
  {
   "cell_type": "code",
   "execution_count": 50,
   "id": "5696585d",
   "metadata": {
    "execution": {
     "iopub.execute_input": "2025-02-26T15:21:02.952130Z",
     "iopub.status.busy": "2025-02-26T15:21:02.951773Z",
     "iopub.status.idle": "2025-02-26T15:21:03.863785Z",
     "shell.execute_reply": "2025-02-26T15:21:03.862630Z"
    },
    "papermill": {
     "duration": 0.928098,
     "end_time": "2025-02-26T15:21:03.865712",
     "exception": false,
     "start_time": "2025-02-26T15:21:02.937614",
     "status": "completed"
    },
    "tags": []
   },
   "outputs": [
    {
     "data": {
      "text/plain": [
       "<matplotlib.legend.Legend at 0x1f3264c3010>"
      ]
     },
     "execution_count": 50,
     "metadata": {},
     "output_type": "execute_result"
    },
    {
     "data": {
      "image/png": "[encoded data removed]",
      "text/plain": [
       "<Figure size 640x480 with 1 Axes>"
      ]
     },
     "metadata": {},
     "output_type": "display_data"
    }
   ],
   "source": [
    "ax=sns.histplot(x='amt',data=df[df.amt<=1000],hue='is_fraud',stat='percent',multiple='dodge',common_norm=False,bins=25)\n",
    "ax.set_ylabel('Percentage in Each Type')\n",
    "ax.set_xlabel('Transaction Amount in USD')\n",
    "plt.legend(title='Type', labels=['Fraud', 'Not Fraud'])"
   ]
  },
  {
   "cell_type": "markdown",
   "id": "bba22a71",
   "metadata": {
    "papermill": {
     "duration": 0.014105,
     "end_time": "2025-02-26T15:21:03.893614",
     "exception": false,
     "start_time": "2025-02-26T15:21:03.879509",
     "status": "completed"
    },
    "tags": []
   },
   "source": [
    " Very important observation this shows that we need to be careful when the transaction amout is very high  \n",
    " Thus we need to be more careful if the amount exceeds 200 $"
   ]
  },
  {
   "cell_type": "markdown",
   "id": "85f4fcae",
   "metadata": {
    "papermill": {
     "duration": 0.013165,
     "end_time": "2025-02-26T15:21:03.922983",
     "exception": false,
     "start_time": "2025-02-26T15:21:03.909818",
     "status": "completed"
    },
    "tags": []
   },
   "source": [
    "## Fraud,Non-Fraud vs Time(Hours)"
   ]
  },
  {
   "cell_type": "code",
   "execution_count": 51,
   "id": "f6da35e9",
   "metadata": {
    "execution": {
     "iopub.execute_input": "2025-02-26T15:21:03.953830Z",
     "iopub.status.busy": "2025-02-26T15:21:03.953488Z",
     "iopub.status.idle": "2025-02-26T15:21:05.131336Z",
     "shell.execute_reply": "2025-02-26T15:21:05.130518Z"
    },
    "papermill": {
     "duration": 1.195432,
     "end_time": "2025-02-26T15:21:05.132538",
     "exception": false,
     "start_time": "2025-02-26T15:21:03.937106",
     "status": "completed"
    },
    "tags": []
   },
   "outputs": [
    {
     "data": {
      "text/plain": [
       "<matplotlib.legend.Legend at 0x1f36ac05ab0>"
      ]
     },
     "execution_count": 51,
     "metadata": {},
     "output_type": "execute_result"
    },
    {
     "data": {
      "image/png": "[encoded data removed]",
      "text/plain": [
       "<Figure size 640x480 with 1 Axes>"
      ]
     },
     "metadata": {},
     "output_type": "display_data"
    }
   ],
   "source": [
    "df['hour']=pd.to_datetime(df['trans_date_trans_time']).dt.hour\n",
    "ax=sns.histplot(data=df, x=\"hour\", hue=\"is_fraud\", common_norm=False,stat='percent',multiple='dodge')\n",
    "ax.set_ylabel('Percentage')\n",
    "ax.set_xlabel('Time (Hour) in a Day')\n",
    "plt.xticks(np.arange(0,24,1))\n",
    "plt.legend(title='Type', labels=['Fraud', 'Not Fraud'])"
   ]
  },
  {
   "cell_type": "markdown",
   "id": "2c19fb9a",
   "metadata": {
    "papermill": {
     "duration": 0.015247,
     "end_time": "2025-02-26T15:21:05.162016",
     "exception": false,
     "start_time": "2025-02-26T15:21:05.146769",
     "status": "completed"
    },
    "tags": []
   },
   "source": [
    "This shows that major frauds happens at night.  \n",
    "It is kind of obvious also when fraudster tries to take control of person account when he is sleeping"
   ]
  },
  {
   "cell_type": "markdown",
   "id": "ddb055ec",
   "metadata": {
    "papermill": {
     "duration": 0.013717,
     "end_time": "2025-02-26T15:21:05.190805",
     "exception": false,
     "start_time": "2025-02-26T15:21:05.177088",
     "status": "completed"
    },
    "tags": []
   },
   "source": [
    "# Fraud,Non-Fraud vs Days"
   ]
  },
  {
   "cell_type": "code",
   "execution_count": 52,
   "id": "6dbbf5f6",
   "metadata": {
    "execution": {
     "iopub.execute_input": "2025-02-26T15:21:05.220800Z",
     "iopub.status.busy": "2025-02-26T15:21:05.220450Z",
     "iopub.status.idle": "2025-02-26T15:21:06.177859Z",
     "shell.execute_reply": "2025-02-26T15:21:06.176642Z"
    },
    "papermill": {
     "duration": 0.973815,
     "end_time": "2025-02-26T15:21:06.179685",
     "exception": false,
     "start_time": "2025-02-26T15:21:05.205870",
     "status": "completed"
    },
    "tags": []
   },
   "outputs": [
    {
     "name": "stderr",
     "output_type": "stream",
     "text": [
      "C:\\Users\\surafel\\AppData\\Local\\Temp\\ipykernel_2240\\2660582218.py:3: UserWarning: set_ticklabels() should only be used with a fixed number of ticks, i.e. after set_ticks() or using a FixedLocator.\n",
      "  ax.set_xticklabels(['',\"Mon\",\"Tue\",\"Wed\",\"Thu\",\"Fri\",\"Sat\",\"Sun\"])\n"
     ]
    },
    {
     "data": {
      "text/plain": [
       "<matplotlib.legend.Legend at 0x1f31757c340>"
      ]
     },
     "execution_count": 52,
     "metadata": {},
     "output_type": "execute_result"
    },
    {
     "data": {
      "image/png": "[encoded data removed]",
      "text/plain": [
       "<Figure size 640x480 with 1 Axes>"
      ]
     },
     "metadata": {},
     "output_type": "display_data"
    }
   ],
   "source": [
    "df['day']=pd.to_datetime(df['trans_date_trans_time']).dt.dayofweek\n",
    "ax=sns.histplot(data=df, x=\"day\", hue=\"is_fraud\", common_norm=False,stat='percent',multiple='dodge')\n",
    "ax.set_xticklabels(['',\"Mon\",\"Tue\",\"Wed\",\"Thu\",\"Fri\",\"Sat\",\"Sun\"])\n",
    "ax.set_ylabel('Percentage')\n",
    "ax.set_xlabel('Day of Week')\n",
    "plt.legend(title='Type', labels=['Fraud', 'Not Fraud'])"
   ]
  },
  {
   "cell_type": "code",
   "execution_count": 53,
   "id": "b4806bad",
   "metadata": {
    "execution": {
     "iopub.execute_input": "2025-02-26T15:21:06.209870Z",
     "iopub.status.busy": "2025-02-26T15:21:06.209516Z",
     "iopub.status.idle": "2025-02-26T15:21:06.387112Z",
     "shell.execute_reply": "2025-02-26T15:21:06.385631Z"
    },
    "papermill": {
     "duration": 0.195093,
     "end_time": "2025-02-26T15:21:06.389214",
     "exception": false,
     "start_time": "2025-02-26T15:21:06.194121",
     "status": "completed"
    },
    "tags": []
   },
   "outputs": [
    {
     "name": "stderr",
     "output_type": "stream",
     "text": [
      "C:\\Users\\surafel\\AppData\\Local\\Temp\\ipykernel_2240\\112423565.py:5: UserWarning: set_ticklabels() should only be used with a fixed number of ticks, i.e. after set_ticks() or using a FixedLocator.\n",
      "  ax.set_xticklabels(['', \"Mon\", \"Tue\", \"Wed\", \"Thu\", \"Fri\", \"Sat\", \"Sun\"])\n"
     ]
    },
    {
     "data": {
      "image/png": "[encoded data removed]",
      "text/plain": [
       "<Figure size 640x480 with 1 Axes>"
      ]
     },
     "metadata": {},
     "output_type": "display_data"
    }
   ],
   "source": [
    "df_fraud = df[df['is_fraud'] == 1]  # Keep only fraud transactions\n",
    "\n",
    "ax = sns.histplot(data=df_fraud, x=\"day\", common_norm=False, stat='percent', multiple='dodge')\n",
    "\n",
    "ax.set_xticklabels(['', \"Mon\", \"Tue\", \"Wed\", \"Thu\", \"Fri\", \"Sat\", \"Sun\"])\n",
    "ax.set_ylabel('Percentage')\n",
    "ax.set_xlabel('Day of Week')\n",
    "plt.title('Fraud Transactions by Day of the Week')\n",
    "plt.show()\n"
   ]
  },
  {
   "cell_type": "markdown",
   "id": "bdea9276",
   "metadata": {
    "papermill": {
     "duration": 0.01466,
     "end_time": "2025-02-26T15:21:06.419641",
     "exception": false,
     "start_time": "2025-02-26T15:21:06.404981",
     "status": "completed"
    },
    "tags": []
   },
   "source": [
    "This concludes major fraud case happens on weekends as well as on monday"
   ]
  },
  {
   "cell_type": "markdown",
   "id": "8442a6d5",
   "metadata": {
    "papermill": {
     "duration": 0.014897,
     "end_time": "2025-02-26T15:21:06.451507",
     "exception": false,
     "start_time": "2025-02-26T15:21:06.436610",
     "status": "completed"
    },
    "tags": []
   },
   "source": [
    "# Fraud,Non-Fraud vs Months"
   ]
  },
  {
   "cell_type": "code",
   "execution_count": 54,
   "id": "70162a72",
   "metadata": {
    "execution": {
     "iopub.execute_input": "2025-02-26T15:21:06.484526Z",
     "iopub.status.busy": "2025-02-26T15:21:06.484089Z",
     "iopub.status.idle": "2025-02-26T15:21:07.479633Z",
     "shell.execute_reply": "2025-02-26T15:21:07.478740Z"
    },
    "papermill": {
     "duration": 1.013837,
     "end_time": "2025-02-26T15:21:07.480871",
     "exception": false,
     "start_time": "2025-02-26T15:21:06.467034",
     "status": "completed"
    },
    "tags": []
   },
   "outputs": [
    {
     "data": {
      "text/plain": [
       "<matplotlib.legend.Legend at 0x1f3098ed990>"
      ]
     },
     "execution_count": 54,
     "metadata": {},
     "output_type": "execute_result"
    },
    {
     "data": {
      "image/png": "[encoded data removed]",
      "text/plain": [
       "<Figure size 640x480 with 1 Axes>"
      ]
     },
     "metadata": {},
     "output_type": "display_data"
    }
   ],
   "source": [
    "df['month']=pd.to_datetime(df['trans_date_trans_time']).dt.month\n",
    "ax=sns.histplot(data=df, x=\"month\", hue=\"is_fraud\", common_norm=False,stat='percent',multiple='dodge')\n",
    "ax.set_ylabel('Percentage')\n",
    "ax.set_xlabel('Month')\n",
    "plt.xticks(np.arange(1,13,1))\n",
    "ax.set_xticklabels([\"Jan\",\"Feb\",\"Mar\",\"Apr\",\"May\",\"Jun\",\"Jul\",'Aug','Sep','Oct','Nov','Dec'])\n",
    "plt.legend(title='Type', labels=['Fraud', 'Not Fraud'])"
   ]
  },
  {
   "cell_type": "code",
   "execution_count": 55,
   "id": "f4aac3cf",
   "metadata": {
    "execution": {
     "iopub.execute_input": "2025-02-26T15:21:07.510692Z",
     "iopub.status.busy": "2025-02-26T15:21:07.510426Z",
     "iopub.status.idle": "2025-02-26T15:21:07.685202Z",
     "shell.execute_reply": "2025-02-26T15:21:07.684266Z"
    },
    "papermill": {
     "duration": 0.191304,
     "end_time": "2025-02-26T15:21:07.686675",
     "exception": false,
     "start_time": "2025-02-26T15:21:07.495371",
     "status": "completed"
    },
    "tags": []
   },
   "outputs": [
    {
     "data": {
      "image/png": "[encoded data removed]",
      "text/plain": [
       "<Figure size 640x480 with 1 Axes>"
      ]
     },
     "metadata": {},
     "output_type": "display_data"
    }
   ],
   "source": [
    "df_fraud = df[df['is_fraud'] == 1]  # Keep only fraud transactions\n",
    "\n",
    "ax = sns.histplot(data=df_fraud, x=\"month\", common_norm=False, stat='percent', multiple='dodge')\n",
    "\n",
    "ax.set_ylabel('Percentage')\n",
    "ax.set_xlabel('Month')\n",
    "\n",
    "plt.xticks(np.arange(1, 13, 1), [\"Jan\", \"Feb\", \"Mar\", \"Apr\", \"May\", \"Jun\", \n",
    "                                 \"Jul\", \"Aug\", \"Sep\", \"Oct\", \"Nov\", \"Dec\"])\n",
    "\n",
    "plt.title('Fraud Transactions by Month')\n",
    "plt.show()\n"
   ]
  },
  {
   "cell_type": "markdown",
   "id": "a671e3c3",
   "metadata": {
    "papermill": {
     "duration": 0.014531,
     "end_time": "2025-02-26T15:21:07.716533",
     "exception": false,
     "start_time": "2025-02-26T15:21:07.702002",
     "status": "completed"
    },
    "tags": []
   },
   "source": [
    "This shows that major frauds happens in the monthof April, Jun, Jan, Feb."
   ]
  },
  {
   "cell_type": "code",
   "execution_count": 56,
   "id": "63b0e48e",
   "metadata": {},
   "outputs": [
    {
     "data": {
      "text/html": [
       "<div>\n",
       "<style scoped>\n",
       "    .dataframe tbody tr th:only-of-type {\n",
       "        vertical-align: middle;\n",
       "    }\n",
       "\n",
       "    .dataframe tbody tr th {\n",
       "        vertical-align: top;\n",
       "    }\n",
       "\n",
       "    .dataframe thead th {\n",
       "        text-align: right;\n",
       "    }\n",
       "</style>\n",
       "<table border=\"1\" class=\"dataframe\">\n",
       "  <thead>\n",
       "    <tr style=\"text-align: right;\">\n",
       "      <th></th>\n",
       "      <th>trans_date_trans_time</th>\n",
       "      <th>amt</th>\n",
       "      <th>gender</th>\n",
       "      <th>lat</th>\n",
       "      <th>long</th>\n",
       "      <th>city_pop</th>\n",
       "      <th>merch_lat</th>\n",
       "      <th>merch_long</th>\n",
       "      <th>is_fraud</th>\n",
       "      <th>category_grocery_pos</th>\n",
       "      <th>category_misc_net</th>\n",
       "      <th>category_others</th>\n",
       "      <th>category_shopping_net</th>\n",
       "      <th>category_shopping_pos</th>\n",
       "      <th>hour</th>\n",
       "      <th>day</th>\n",
       "      <th>month</th>\n",
       "    </tr>\n",
       "  </thead>\n",
       "  <tbody>\n",
       "    <tr>\n",
       "      <th>0</th>\n",
       "      <td>2019-01-01 00:00:18</td>\n",
       "      <td>4.97</td>\n",
       "      <td>0</td>\n",
       "      <td>36.0788</td>\n",
       "      <td>-81.1781</td>\n",
       "      <td>3495</td>\n",
       "      <td>36.011293</td>\n",
       "      <td>-82.048315</td>\n",
       "      <td>0</td>\n",
       "      <td>0.0</td>\n",
       "      <td>1.0</td>\n",
       "      <td>0.0</td>\n",
       "      <td>0.0</td>\n",
       "      <td>0.0</td>\n",
       "      <td>0</td>\n",
       "      <td>1</td>\n",
       "      <td>1</td>\n",
       "    </tr>\n",
       "    <tr>\n",
       "      <th>1</th>\n",
       "      <td>2019-01-01 00:00:44</td>\n",
       "      <td>107.23</td>\n",
       "      <td>0</td>\n",
       "      <td>48.8878</td>\n",
       "      <td>-118.2105</td>\n",
       "      <td>149</td>\n",
       "      <td>49.159047</td>\n",
       "      <td>-118.186462</td>\n",
       "      <td>0</td>\n",
       "      <td>1.0</td>\n",
       "      <td>0.0</td>\n",
       "      <td>0.0</td>\n",
       "      <td>0.0</td>\n",
       "      <td>0.0</td>\n",
       "      <td>0</td>\n",
       "      <td>1</td>\n",
       "      <td>1</td>\n",
       "    </tr>\n",
       "    <tr>\n",
       "      <th>2</th>\n",
       "      <td>2019-01-01 00:00:51</td>\n",
       "      <td>220.11</td>\n",
       "      <td>1</td>\n",
       "      <td>42.1808</td>\n",
       "      <td>-112.2620</td>\n",
       "      <td>4154</td>\n",
       "      <td>43.150704</td>\n",
       "      <td>-112.154481</td>\n",
       "      <td>0</td>\n",
       "      <td>0.0</td>\n",
       "      <td>0.0</td>\n",
       "      <td>1.0</td>\n",
       "      <td>0.0</td>\n",
       "      <td>0.0</td>\n",
       "      <td>0</td>\n",
       "      <td>1</td>\n",
       "      <td>1</td>\n",
       "    </tr>\n",
       "    <tr>\n",
       "      <th>3</th>\n",
       "      <td>2019-01-01 00:01:16</td>\n",
       "      <td>45.00</td>\n",
       "      <td>1</td>\n",
       "      <td>46.2306</td>\n",
       "      <td>-112.1138</td>\n",
       "      <td>1939</td>\n",
       "      <td>47.034331</td>\n",
       "      <td>-112.561071</td>\n",
       "      <td>0</td>\n",
       "      <td>0.0</td>\n",
       "      <td>0.0</td>\n",
       "      <td>0.0</td>\n",
       "      <td>0.0</td>\n",
       "      <td>0.0</td>\n",
       "      <td>0</td>\n",
       "      <td>1</td>\n",
       "      <td>1</td>\n",
       "    </tr>\n",
       "    <tr>\n",
       "      <th>4</th>\n",
       "      <td>2019-01-01 00:03:06</td>\n",
       "      <td>41.96</td>\n",
       "      <td>1</td>\n",
       "      <td>38.4207</td>\n",
       "      <td>-79.4629</td>\n",
       "      <td>99</td>\n",
       "      <td>38.674999</td>\n",
       "      <td>-78.632459</td>\n",
       "      <td>0</td>\n",
       "      <td>0.0</td>\n",
       "      <td>0.0</td>\n",
       "      <td>1.0</td>\n",
       "      <td>0.0</td>\n",
       "      <td>0.0</td>\n",
       "      <td>0</td>\n",
       "      <td>1</td>\n",
       "      <td>1</td>\n",
       "    </tr>\n",
       "  </tbody>\n",
       "</table>\n",
       "</div>"
      ],
      "text/plain": [
       "  trans_date_trans_time     amt  gender      lat      long  city_pop  \\\n",
       "0   2019-01-01 00:00:18    4.97       0  36.0788  -81.1781      3495   \n",
       "1   2019-01-01 00:00:44  107.23       0  48.8878 -118.2105       149   \n",
       "2   2019-01-01 00:00:51  220.11       1  42.1808 -112.2620      4154   \n",
       "3   2019-01-01 00:01:16   45.00       1  46.2306 -112.1138      1939   \n",
       "4   2019-01-01 00:03:06   41.96       1  38.4207  -79.4629        99   \n",
       "\n",
       "   merch_lat  merch_long  is_fraud  category_grocery_pos  category_misc_net  \\\n",
       "0  36.011293  -82.048315         0                   0.0                1.0   \n",
       "1  49.159047 -118.186462         0                   1.0                0.0   \n",
       "2  43.150704 -112.154481         0                   0.0                0.0   \n",
       "3  47.034331 -112.561071         0                   0.0                0.0   \n",
       "4  38.674999  -78.632459         0                   0.0                0.0   \n",
       "\n",
       "   category_others  category_shopping_net  category_shopping_pos  hour  day  \\\n",
       "0              0.0                    0.0                    0.0     0    1   \n",
       "1              0.0                    0.0                    0.0     0    1   \n",
       "2              1.0                    0.0                    0.0     0    1   \n",
       "3              0.0                    0.0                    0.0     0    1   \n",
       "4              1.0                    0.0                    0.0     0    1   \n",
       "\n",
       "   month  \n",
       "0      1  \n",
       "1      1  \n",
       "2      1  \n",
       "3      1  \n",
       "4      1  "
      ]
     },
     "execution_count": 56,
     "metadata": {},
     "output_type": "execute_result"
    }
   ],
   "source": [
    "\n",
    "\n",
    "\n",
    "\n"
   ]
  },
  {
   "cell_type": "code",
   "execution_count": 57,
   "id": "e142e10b",
   "metadata": {},
   "outputs": [],
   "source": [
    "# Extract features and target\n",
    "X = df.drop(['is_fraud', 'trans_date_trans_time'], axis=1)\n",
    "y = df['is_fraud']\n",
    "\n",
    "# Split the data\n",
    "from sklearn.model_selection import train_test_split\n",
    "# X_train, X_test, y_train, y_test = train_test_split(X, y, test_size=0.2, random_state=42, stratify=y)\n",
    "X_train, X_test, y_train, y_test = train_test_split(X, y, stratify=y, test_size = 0.3, random_state = 42)\n"
   ]
  },
  {
   "cell_type": "code",
   "execution_count": 58,
   "id": "206c1be2",
   "metadata": {},
   "outputs": [],
   "source": [
    "# Scale the features\n",
    "from sklearn.preprocessing import StandardScaler\n",
    "scaler = StandardScaler()\n",
    "X_train_scaled = scaler.fit_transform(X_train)\n",
    "X_test_scaled = scaler.transform(X_test)\n",
    "\n",
    "# Save the scaler for later use\n",
    "import pickle\n",
    "with open('scaler.pkl', 'wb') as f:\n",
    "    pickle.dump(scaler, f)\n"
   ]
  },
  {
   "cell_type": "code",
   "execution_count": 59,
   "id": "bd98688a",
   "metadata": {},
   "outputs": [],
   "source": [
    "\n",
    "# Define a function to evaluate and visualize model performance\n",
    "from sklearn.metrics import accuracy_score, precision_score, recall_score, f1_score, roc_auc_score\n",
    "from sklearn.metrics import confusion_matrix, classification_report\n",
    "from sklearn.metrics import roc_curve, precision_recall_curve, auc\n",
    "import matplotlib.pyplot as plt\n",
    "\n",
    "def evaluate_model(model, X_train, X_test, y_train, y_test, model_name):\n",
    "    # Train the model\n",
    "    model.fit(X_train, y_train)\n",
    "    \n",
    "    # Make predictions\n",
    "    y_pred = model.predict(X_test)\n",
    "    y_pred_proba = model.predict_proba(X_test)[:, 1]\n",
    "    \n",
    "    # Calculate metrics\n",
    "    accuracy = accuracy_score(y_test, y_pred)\n",
    "    precision = precision_score(y_test, y_pred)\n",
    "    recall = recall_score(y_test, y_pred)\n",
    "    f1 = f1_score(y_test, y_pred)\n",
    "    roc_auc = roc_auc_score(y_test, y_pred_proba)\n",
    "    \n",
    "    # Print metrics\n",
    "    print(f\"\\n{model_name} Performance:\")\n",
    "    print(f\"Accuracy: {accuracy:.4f}\")\n",
    "    print(f\"Precision: {precision:.4f}\")\n",
    "    print(f\"Recall: {recall:.4f}\")\n",
    "    print(f\"F1 Score: {f1:.4f}\")\n",
    "    print(f\"ROC AUC: {roc_auc:.4f}\")\n",
    "    \n",
    "    # Print confusion matrix and classification report\n",
    "    print(\"\\nConfusion Matrix:\")\n",
    "    print(confusion_matrix(y_test, y_pred))\n",
    "    print(\"\\nClassification Report:\")\n",
    "    print(classification_report(y_test, y_pred))\n",
    "    \n",
    "    # Return the trained model and metrics\n",
    "    return model, {\n",
    "        'accuracy': accuracy,\n",
    "        'precision': precision,\n",
    "        'recall': recall,\n",
    "        'f1': f1,\n",
    "        'roc_auc': roc_auc,\n",
    "        'y_pred_proba': y_pred_proba\n",
    "    }\n"
   ]
  },
  {
   "cell_type": "code",
   "execution_count": 60,
   "id": "3fad4376",
   "metadata": {},
   "outputs": [
    {
     "ename": "ModuleNotFoundError",
     "evalue": "No module named 'xgboost'",
     "output_type": "error",
     "traceback": [
      "\u001b[1;31m---------------------------------------------------------------------------\u001b[0m",
      "\u001b[1;31mModuleNotFoundError\u001b[0m                       Traceback (most recent call last)",
      "Cell \u001b[1;32mIn[60], line 6\u001b[0m\n\u001b[0;32m      4\u001b[0m \u001b[38;5;28;01mfrom\u001b[39;00m \u001b[38;5;21;01msklearn\u001b[39;00m\u001b[38;5;21;01m.\u001b[39;00m\u001b[38;5;21;01mensemble\u001b[39;00m \u001b[38;5;28;01mimport\u001b[39;00m RandomForestClassifier\n\u001b[0;32m      5\u001b[0m \u001b[38;5;28;01mimport\u001b[39;00m \u001b[38;5;21;01mlightgbm\u001b[39;00m \u001b[38;5;28;01mas\u001b[39;00m \u001b[38;5;21;01mlgb\u001b[39;00m\n\u001b[1;32m----> 6\u001b[0m \u001b[38;5;28;01mimport\u001b[39;00m \u001b[38;5;21;01mxgboost\u001b[39;00m \u001b[38;5;28;01mas\u001b[39;00m \u001b[38;5;21;01mxgb\u001b[39;00m\n\u001b[0;32m      8\u001b[0m \u001b[38;5;66;03m# Create base models\u001b[39;00m\n\u001b[0;32m      9\u001b[0m models \u001b[38;5;241m=\u001b[39m {\n\u001b[0;32m     10\u001b[0m     \u001b[38;5;124m'\u001b[39m\u001b[38;5;124mLogistic Regression\u001b[39m\u001b[38;5;124m'\u001b[39m: LogisticRegression(max_iter\u001b[38;5;241m=\u001b[39m\u001b[38;5;241m1000\u001b[39m, random_state\u001b[38;5;241m=\u001b[39m\u001b[38;5;241m42\u001b[39m),\n\u001b[0;32m     11\u001b[0m     \u001b[38;5;124m'\u001b[39m\u001b[38;5;124mDecision Tree\u001b[39m\u001b[38;5;124m'\u001b[39m: DecisionTreeClassifier(random_state\u001b[38;5;241m=\u001b[39m\u001b[38;5;241m42\u001b[39m),\n\u001b[1;32m   (...)\u001b[0m\n\u001b[0;32m     14\u001b[0m     \u001b[38;5;124m'\u001b[39m\u001b[38;5;124mXGBoost\u001b[39m\u001b[38;5;124m'\u001b[39m: xgb\u001b[38;5;241m.\u001b[39mXGBClassifier(random_state\u001b[38;5;241m=\u001b[39m\u001b[38;5;241m42\u001b[39m)\n\u001b[0;32m     15\u001b[0m }\n",
      "\u001b[1;31mModuleNotFoundError\u001b[0m: No module named 'xgboost'"
     ]
    }
   ],
   "source": [
    "# Initialize models\n",
    "from sklearn.linear_model import LogisticRegression\n",
    "from sklearn.tree import DecisionTreeClassifier\n",
    "from sklearn.ensemble import RandomForestClassifier\n",
    "import lightgbm as lgb\n",
    "import xgboost as xgb\n",
    "\n",
    "# Create base models\n",
    "models = {\n",
    "    'Logistic Regression': LogisticRegression(max_iter=1000, random_state=42),\n",
    "    'Decision Tree': DecisionTreeClassifier(random_state=42),\n",
    "    'Random Forest': RandomForestClassifier(random_state=42),\n",
    "    'LightGBM': lgb.LGBMClassifier(random_state=42),\n",
    "    'XGBoost': xgb.XGBClassifier(random_state=42)\n",
    "}\n",
    "\n",
    "# Train and evaluate each model\n",
    "results = {}\n",
    "for name, model in models.items():\n",
    "    print(f\"\\nTraining {name}...\")\n",
    "    trained_model, metrics = evaluate_model(model, X_train_scaled, X_test_scaled, y_train, y_test, name)\n",
    "    results[name] = {\n",
    "        'model': trained_model,\n",
    "        'metrics': metrics\n",
    "    }\n",
    "\n",
    "# Plot ROC curves for all models\n",
    "plt.figure(figsize=(10, 8))\n",
    "for name, result in results.items():\n",
    "    metrics = result['metrics']\n",
    "    fpr, tpr, _ = roc_curve(y_test, metrics['y_pred_proba'])\n",
    "    plt.plot(fpr, tpr, label=f\"{name} (AUC = {metrics['roc_auc']:.4f})\")\n",
    "\n",
    "plt.plot([0, 1], [0, 1], 'k--')\n",
    "plt.xlabel('False Positive Rate')\n",
    "plt.ylabel('True Positive Rate')\n",
    "plt.title('ROC Curves for All Models')\n",
    "plt.legend()\n",
    "plt.show()\n",
    "\n",
    "# Plot Precision-Recall curves for all models\n",
    "plt.figure(figsize=(10, 8))\n",
    "for name, result in results.items():\n",
    "    metrics = result['metrics']\n",
    "    precision, recall, _ = precision_recall_curve(y_test, metrics['y_pred_proba'])\n",
    "    plt.plot(recall, precision, label=f\"{name} (F1 = {metrics['f1']:.4f})\")\n",
    "\n",
    "plt.xlabel('Recall')\n",
    "plt.ylabel('Precision')\n",
    "plt.title('Precision-Recall Curves for All Models')\n",
    "plt.legend()\n",
    "plt.show()\n"
   ]
  },
  {
   "cell_type": "code",
   "execution_count": null,
   "id": "1c570258",
   "metadata": {},
   "outputs": [],
   "source": [
    "# Hyperparameter tuning using GridSearchCV\n",
    "from sklearn.model_selection import GridSearchCV\n",
    "\n",
    "# Define parameter grids for each model\n",
    "param_grids = {\n",
    "    'Logistic Regression': {\n",
    "        'C': [0.01, 0.1, 1, 10, 100],\n",
    "        'penalty': ['l1', 'l2'],\n",
    "        'solver': ['liblinear']\n",
    "    },\n",
    "    'Decision Tree': {\n",
    "        'max_depth': [5, 10, 15, 20, None],\n",
    "        'min_samples_split': [2, 5, 10],\n",
    "        'min_samples_leaf': [1, 2, 4]\n",
    "    },\n",
    "    'Random Forest': {\n",
    "        'n_estimators': [50, 100, 200],\n",
    "        'max_depth': [10, 20, None],\n",
    "        'min_samples_split': [2, 5, 10],\n",
    "        'min_samples_leaf': [1, 2, 4]\n",
    "    },\n",
    "    'LightGBM': {\n",
    "        'n_estimators': [50, 100, 200],\n",
    "        'max_depth': [5, 10, 15],\n",
    "        'learning_rate': [0.01, 0.05, 0.1]\n",
    "    },\n",
    "    'XGBoost': {\n",
    "        'n_estimators': [50, 100, 200],\n",
    "        'max_depth': [3, 5, 7],\n",
    "        'learning_rate': [0.01, 0.05, 0.1]\n",
    "    }\n",
    "}\n",
    "\n",
    "# Perform hyperparameter tuning for each model\n",
    "tuned_models = {}\n",
    "for name, model in models.items():\n",
    "    print(f\"\\nTuning {name}...\")\n",
    "    grid_search = GridSearchCV(model, param_grids[name], cv=3, scoring='f1', n_jobs=-1)\n",
    "    grid_search.fit(X_train_scaled, y_train)\n",
    "    \n",
    "    print(f\"Best parameters for {name}: {grid_search.best_params_}\")\n",
    "    tuned_models[name] = grid_search.best_estimator_\n",
    "\n",
    "# Evaluate tuned models\n",
    "tuned_results = {}\n",
    "for name, model in tuned_models.items():\n",
    "    print(f\"\\nEvaluating tuned {name}...\")\n",
    "    trained_model, metrics = evaluate_model(model, X_train_scaled, X_test_scaled, y_train, y_test, f\"Tuned {name}\")\n",
    "    tuned_results[name] = {\n",
    "        'model': trained_model,\n",
    "        'metrics': metrics\n",
    "    }\n",
    "\n",
    "# Plot ROC curves for tuned models\n",
    "plt.figure(figsize=(10, 8))\n",
    "for name, result in tuned_results.items():\n",
    "    metrics = result['metrics']\n",
    "    fpr, tpr, _ = roc_curve(y_test, metrics['y_pred_proba'])\n",
    "    plt.plot(fpr, tpr, label=f\"Tuned {name} (AUC = {metrics['roc_auc']:.4f})\")\n",
    "\n",
    "plt.plot([0, 1], [0, 1], 'k--')\n",
    "plt.xlabel('False Positive Rate')\n",
    "plt.ylabel('True Positive Rate')\n",
    "plt.title('ROC Curves for Tuned Models')\n",
    "plt.legend()\n",
    "plt.show()\n",
    "\n",
    "# Plot Precision-Recall curves for tuned models\n",
    "plt.figure(figsize=(10, 8))\n",
    "for name, result in tuned_results.items():\n",
    "    metrics = result['metrics']\n",
    "    precision, recall, _ = precision_recall_curve(y_test, metrics['y_pred_proba'])\n",
    "    plt.plot(recall, precision, label=f\"Tuned {name} (F1 = {metrics['f1']:.4f})\")\n",
    "\n",
    "plt.xlabel('Recall')\n",
    "plt.ylabel('Precision')\n",
    "plt.title('Precision-Recall Curves for Tuned Models')\n",
    "plt.legend()\n",
    "plt.show()\n",
    "\n",
    "# Find the best model based on F1 score\n",
    "best_model_name = max(tuned_results, key=lambda x: tuned_results[x]['metrics']['f1'])\n",
    "best_model = tuned_results[best_model_name]['model']\n",
    "print(f\"\\nBest model: {best_model_name} with F1 score: {tuned_results[best_model_name]['metrics']['f1']:.4f}\")\n",
    "\n",
    "# Feature importance for the best model\n",
    "if best_model_name in ['Random Forest', 'LightGBM', 'XGBoost']:\n",
    "    # Get feature importances\n",
    "    if best_model_name == 'Random Forest':\n",
    "        importances = best_model.feature_importances_\n",
    "    elif best_model_name == 'LightGBM':\n",
    "        importances = best_model.feature_importances_\n",
    "    else:  # XGBoost\n",
    "        importances = best_model.feature_importances_\n",
    "    \n",
    "    # Create a DataFrame for visualization\n",
    "    feature_importance_df = pd.DataFrame({\n",
    "        'Feature': X.columns,\n",
    "        'Importance': importances\n",
    "    }).sort_values(by='Importance', ascending=False)\n",
    "    \n",
    "    # Plot feature importances\n",
    "    plt.figure(figsize=(12, 8))\n",
    "    sns.barplot(x='Importance', y='Feature', data=feature_importance_df.head(15))\n",
    "    plt.title(f'Top 15 Feature Importances for {best_model_name}')\n",
    "    plt.tight_layout()\n",
    "    plt.show()"
   ]
  },
  {
   "cell_type": "code",
   "execution_count": null,
   "id": "29f8b57b",
   "metadata": {},
   "outputs": [],
   "source": [
    "# Explainable AI with SHAP\n",
    "import shap\n",
    "\n",
    "# Create a SHAP explainer for the best model\n",
    "if best_model_name in ['Random Forest', 'LightGBM', 'XGBoost']:\n",
    "    print(\"\\nGenerating SHAP values for model explanation...\")\n",
    "    \n",
    "    # Sample a subset of the test data for SHAP analysis (for computational efficiency)\n",
    "    X_test_sample = X_test_scaled[:500]\n",
    "    \n",
    "    # Create explainer\n",
    "    if best_model_name == 'Random Forest':\n",
    "        explainer = shap.TreeExplainer(best_model)\n",
    "    elif best_model_name == 'LightGBM':\n",
    "        explainer = shap.TreeExplainer(best_model)\n",
    "    else:  # XGBoost\n",
    "        explainer = shap.TreeExplainer(best_model)\n",
    "    \n",
    "    # Calculate SHAP values\n",
    "    shap_values = explainer.shap_values(X_test_sample)\n",
    "    \n",
    "    # Summary plot\n",
    "    plt.figure(figsize=(12, 8))\n",
    "    shap.summary_plot(shap_values, X_test_sample, feature_names=X.columns, show=False)\n",
    "    plt.title(f'SHAP Summary Plot for {best_model_name}')\n",
    "    plt.tight_layout()\n",
    "    plt.show()\n",
    "    \n",
    "    # Dependence plot for the most important feature\n",
    "    most_important_feature_idx = np.argmax(np.abs(shap_values).mean(axis=0))\n",
    "    most_important_feature = X.columns[most_important_feature_idx]\n",
    "    \n",
    "    plt.figure(figsize=(10, 8))\n",
    "    shap.dependence_plot(most_important_feature_idx, shap_values, X_test_sample, \n",
    "                         feature_names=X.columns, show=False)\n",
    "    plt.title(f'SHAP Dependence Plot for {most_important_feature}')\n",
    "    plt.tight_layout()\n",
    "    plt.show()\n"
   ]
  },
  {
   "cell_type": "code",
   "execution_count": null,
   "id": "95332234",
   "metadata": {},
   "outputs": [],
   "source": [
    "# Save the best model\n",
    "with open(f'best_model_{best_model_name}.pkl', 'wb') as f:\n",
    "    pickle.dump(best_model, f)\n",
    "\n",
    "print(f\"\\nBest model ({best_model_name}) saved to 'best_model_{best_model_name}.pkl'\")\n",
    "print(\"Scaler saved to 'scaler.pkl'\")"
   ]
  }
 ],
 "metadata": {
  "kaggle": {
   "accelerator": "none",
   "dataSources": [
    {
     "datasetId": 817870,
     "sourceId": 1399887,
     "sourceType": "datasetVersion"
    }
   ],
   "dockerImageVersionId": 30918,
   "isGpuEnabled": false,
   "isInternetEnabled": true,
   "language": "python",
   "sourceType": "notebook"
  },
  "kernelspec": {
   "display_name": "Python 3 (ipykernel)",
   "language": "python",
   "name": "python3"
  },
  "language_info": {
   "codemirror_mode": {
    "name": "ipython",
    "version": 3
   },
   "file_extension": ".py",
   "mimetype": "text/x-python",
   "name": "python",
   "nbconvert_exporter": "python",
   "pygments_lexer": "ipython3",
   "version": "3.10.7"
  },
  "papermill": {
   "default_parameters": {},
   "duration": 27.049528,
   "end_time": "2025-02-26T15:21:08.940959",
   "environment_variables": {},
   "exception": null,
   "input_path": "__notebook__.ipynb",
   "output_path": "__notebook__.ipynb",
   "parameters": {},
   "start_time": "2025-02-26T15:20:41.891431",
   "version": "2.6.0"
  }
 },
 "nbformat": 4,
 "nbformat_minor": 5
}
